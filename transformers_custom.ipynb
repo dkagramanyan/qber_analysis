{
 "cells": [
  {
   "cell_type": "code",
   "execution_count": 42,
   "outputs": [],
   "source": [
    "import numpy as np\n",
    "\n",
    "import os\n",
    "os.environ[\"KMP_DUPLICATE_LIB_OK\"]=\"TRUE\"\n",
    "\n",
    "import pandas as pd\n",
    "import pytorch_lightning as pl\n",
    "import matplotlib.pyplot as plt\n",
    "\n",
    "from neuralforecast import NeuralForecast\n",
    "from neuralforecast.models import MLP, Autoformer\n",
    "from neuralforecast.losses.pytorch import MQLoss, DistributionLoss\n",
    "from neuralforecast.tsdataset import TimeSeriesDataset\n",
    "from neuralforecast.utils import AirPassengers, AirPassengersPanel, AirPassengersStatic, augment_calendar_df\n",
    "\n",
    "from neuralforecast.losses.pytorch import MAE"
   ],
   "metadata": {
    "collapsed": false,
    "ExecuteTime": {
     "end_time": "2023-08-31T19:48:09.468108900Z",
     "start_time": "2023-08-31T19:48:09.449114300Z"
    }
   },
   "id": "7e684bab512b69f0"
  },
  {
   "cell_type": "code",
   "execution_count": 58,
   "outputs": [
    {
     "name": "stdout",
     "output_type": "stream",
     "text": [
      "['month']\n"
     ]
    }
   ],
   "source": [
    "\n",
    "AirPassengersPaneld, calendar_cols = augment_calendar_df(df=AirPassengersPanel, freq='M')\n",
    "\n",
    "Y_train_df = AirPassengersPaneld[AirPassengersPaneld.ds<AirPassengersPaneld['ds'].values[-12]] # 132 train\n",
    "Y_test_df = AirPassengersPaneld[AirPassengersPaneld.ds>=AirPassengersPaneld['ds'].values[-12]].reset_index(drop=True) # 12 test\n",
    "\n",
    "Y_train_df=Y_train_df.drop(['ds','trend','y_[lag12]'],axis=1)\n",
    "Y_test_df=Y_test_df.drop(['ds','trend','y_[lag12]'],axis=1)\n",
    "\n",
    "print(calendar_cols)"
   ],
   "metadata": {
    "collapsed": false,
    "ExecuteTime": {
     "end_time": "2023-08-31T19:52:57.379946300Z",
     "start_time": "2023-08-31T19:52:57.345077500Z"
    }
   },
   "id": "125ca502db83b8e8"
  },
  {
   "cell_type": "code",
   "execution_count": 59,
   "outputs": [
    {
     "data": {
      "text/plain": "    unique_id         ds      y  trend  y_[lag12]     month\n0    Airline1 1949-01-31  112.0      0      112.0 -0.500000\n1    Airline1 1949-02-28  118.0      1      118.0 -0.409091\n2    Airline1 1949-03-31  132.0      2      132.0 -0.318182\n3    Airline1 1949-04-30  129.0      3      129.0 -0.227273\n4    Airline1 1949-05-31  121.0      4      121.0 -0.136364\n..        ...        ...    ...    ...        ...       ...\n283  Airline2 1960-08-31  906.0    283      859.0  0.136364\n284  Airline2 1960-09-30  808.0    284      763.0  0.227273\n285  Airline2 1960-10-31  761.0    285      707.0  0.318182\n286  Airline2 1960-11-30  690.0    286      662.0  0.409091\n287  Airline2 1960-12-31  732.0    287      705.0  0.500000\n\n[288 rows x 6 columns]",
      "text/html": "<div>\n<style scoped>\n    .dataframe tbody tr th:only-of-type {\n        vertical-align: middle;\n    }\n\n    .dataframe tbody tr th {\n        vertical-align: top;\n    }\n\n    .dataframe thead th {\n        text-align: right;\n    }\n</style>\n<table border=\"1\" class=\"dataframe\">\n  <thead>\n    <tr style=\"text-align: right;\">\n      <th></th>\n      <th>unique_id</th>\n      <th>ds</th>\n      <th>y</th>\n      <th>trend</th>\n      <th>y_[lag12]</th>\n      <th>month</th>\n    </tr>\n  </thead>\n  <tbody>\n    <tr>\n      <th>0</th>\n      <td>Airline1</td>\n      <td>1949-01-31</td>\n      <td>112.0</td>\n      <td>0</td>\n      <td>112.0</td>\n      <td>-0.500000</td>\n    </tr>\n    <tr>\n      <th>1</th>\n      <td>Airline1</td>\n      <td>1949-02-28</td>\n      <td>118.0</td>\n      <td>1</td>\n      <td>118.0</td>\n      <td>-0.409091</td>\n    </tr>\n    <tr>\n      <th>2</th>\n      <td>Airline1</td>\n      <td>1949-03-31</td>\n      <td>132.0</td>\n      <td>2</td>\n      <td>132.0</td>\n      <td>-0.318182</td>\n    </tr>\n    <tr>\n      <th>3</th>\n      <td>Airline1</td>\n      <td>1949-04-30</td>\n      <td>129.0</td>\n      <td>3</td>\n      <td>129.0</td>\n      <td>-0.227273</td>\n    </tr>\n    <tr>\n      <th>4</th>\n      <td>Airline1</td>\n      <td>1949-05-31</td>\n      <td>121.0</td>\n      <td>4</td>\n      <td>121.0</td>\n      <td>-0.136364</td>\n    </tr>\n    <tr>\n      <th>...</th>\n      <td>...</td>\n      <td>...</td>\n      <td>...</td>\n      <td>...</td>\n      <td>...</td>\n      <td>...</td>\n    </tr>\n    <tr>\n      <th>283</th>\n      <td>Airline2</td>\n      <td>1960-08-31</td>\n      <td>906.0</td>\n      <td>283</td>\n      <td>859.0</td>\n      <td>0.136364</td>\n    </tr>\n    <tr>\n      <th>284</th>\n      <td>Airline2</td>\n      <td>1960-09-30</td>\n      <td>808.0</td>\n      <td>284</td>\n      <td>763.0</td>\n      <td>0.227273</td>\n    </tr>\n    <tr>\n      <th>285</th>\n      <td>Airline2</td>\n      <td>1960-10-31</td>\n      <td>761.0</td>\n      <td>285</td>\n      <td>707.0</td>\n      <td>0.318182</td>\n    </tr>\n    <tr>\n      <th>286</th>\n      <td>Airline2</td>\n      <td>1960-11-30</td>\n      <td>690.0</td>\n      <td>286</td>\n      <td>662.0</td>\n      <td>0.409091</td>\n    </tr>\n    <tr>\n      <th>287</th>\n      <td>Airline2</td>\n      <td>1960-12-31</td>\n      <td>732.0</td>\n      <td>287</td>\n      <td>705.0</td>\n      <td>0.500000</td>\n    </tr>\n  </tbody>\n</table>\n<p>288 rows × 6 columns</p>\n</div>"
     },
     "execution_count": 59,
     "metadata": {},
     "output_type": "execute_result"
    }
   ],
   "source": [
    "AirPassengersPaneld"
   ],
   "metadata": {
    "collapsed": false,
    "ExecuteTime": {
     "end_time": "2023-08-31T19:52:58.664463900Z",
     "start_time": "2023-08-31T19:52:58.631083800Z"
    }
   },
   "id": "b6bc3a757381812a"
  },
  {
   "cell_type": "code",
   "execution_count": 60,
   "outputs": [
    {
     "data": {
      "text/plain": "   unique_id      y     month\n0   Airline1  417.0 -0.500000\n1   Airline1  391.0 -0.409091\n2   Airline1  419.0 -0.318182\n3   Airline1  461.0 -0.227273\n4   Airline1  472.0 -0.136364\n5   Airline1  535.0 -0.045455\n6   Airline1  622.0  0.045455\n7   Airline1  606.0  0.136364\n8   Airline1  508.0  0.227273\n9   Airline1  461.0  0.318182\n10  Airline1  390.0  0.409091\n11  Airline1  432.0  0.500000\n12  Airline2  717.0 -0.500000\n13  Airline2  691.0 -0.409091\n14  Airline2  719.0 -0.318182\n15  Airline2  761.0 -0.227273\n16  Airline2  772.0 -0.136364\n17  Airline2  835.0 -0.045455\n18  Airline2  922.0  0.045455\n19  Airline2  906.0  0.136364\n20  Airline2  808.0  0.227273\n21  Airline2  761.0  0.318182\n22  Airline2  690.0  0.409091\n23  Airline2  732.0  0.500000",
      "text/html": "<div>\n<style scoped>\n    .dataframe tbody tr th:only-of-type {\n        vertical-align: middle;\n    }\n\n    .dataframe tbody tr th {\n        vertical-align: top;\n    }\n\n    .dataframe thead th {\n        text-align: right;\n    }\n</style>\n<table border=\"1\" class=\"dataframe\">\n  <thead>\n    <tr style=\"text-align: right;\">\n      <th></th>\n      <th>unique_id</th>\n      <th>y</th>\n      <th>month</th>\n    </tr>\n  </thead>\n  <tbody>\n    <tr>\n      <th>0</th>\n      <td>Airline1</td>\n      <td>417.0</td>\n      <td>-0.500000</td>\n    </tr>\n    <tr>\n      <th>1</th>\n      <td>Airline1</td>\n      <td>391.0</td>\n      <td>-0.409091</td>\n    </tr>\n    <tr>\n      <th>2</th>\n      <td>Airline1</td>\n      <td>419.0</td>\n      <td>-0.318182</td>\n    </tr>\n    <tr>\n      <th>3</th>\n      <td>Airline1</td>\n      <td>461.0</td>\n      <td>-0.227273</td>\n    </tr>\n    <tr>\n      <th>4</th>\n      <td>Airline1</td>\n      <td>472.0</td>\n      <td>-0.136364</td>\n    </tr>\n    <tr>\n      <th>5</th>\n      <td>Airline1</td>\n      <td>535.0</td>\n      <td>-0.045455</td>\n    </tr>\n    <tr>\n      <th>6</th>\n      <td>Airline1</td>\n      <td>622.0</td>\n      <td>0.045455</td>\n    </tr>\n    <tr>\n      <th>7</th>\n      <td>Airline1</td>\n      <td>606.0</td>\n      <td>0.136364</td>\n    </tr>\n    <tr>\n      <th>8</th>\n      <td>Airline1</td>\n      <td>508.0</td>\n      <td>0.227273</td>\n    </tr>\n    <tr>\n      <th>9</th>\n      <td>Airline1</td>\n      <td>461.0</td>\n      <td>0.318182</td>\n    </tr>\n    <tr>\n      <th>10</th>\n      <td>Airline1</td>\n      <td>390.0</td>\n      <td>0.409091</td>\n    </tr>\n    <tr>\n      <th>11</th>\n      <td>Airline1</td>\n      <td>432.0</td>\n      <td>0.500000</td>\n    </tr>\n    <tr>\n      <th>12</th>\n      <td>Airline2</td>\n      <td>717.0</td>\n      <td>-0.500000</td>\n    </tr>\n    <tr>\n      <th>13</th>\n      <td>Airline2</td>\n      <td>691.0</td>\n      <td>-0.409091</td>\n    </tr>\n    <tr>\n      <th>14</th>\n      <td>Airline2</td>\n      <td>719.0</td>\n      <td>-0.318182</td>\n    </tr>\n    <tr>\n      <th>15</th>\n      <td>Airline2</td>\n      <td>761.0</td>\n      <td>-0.227273</td>\n    </tr>\n    <tr>\n      <th>16</th>\n      <td>Airline2</td>\n      <td>772.0</td>\n      <td>-0.136364</td>\n    </tr>\n    <tr>\n      <th>17</th>\n      <td>Airline2</td>\n      <td>835.0</td>\n      <td>-0.045455</td>\n    </tr>\n    <tr>\n      <th>18</th>\n      <td>Airline2</td>\n      <td>922.0</td>\n      <td>0.045455</td>\n    </tr>\n    <tr>\n      <th>19</th>\n      <td>Airline2</td>\n      <td>906.0</td>\n      <td>0.136364</td>\n    </tr>\n    <tr>\n      <th>20</th>\n      <td>Airline2</td>\n      <td>808.0</td>\n      <td>0.227273</td>\n    </tr>\n    <tr>\n      <th>21</th>\n      <td>Airline2</td>\n      <td>761.0</td>\n      <td>0.318182</td>\n    </tr>\n    <tr>\n      <th>22</th>\n      <td>Airline2</td>\n      <td>690.0</td>\n      <td>0.409091</td>\n    </tr>\n    <tr>\n      <th>23</th>\n      <td>Airline2</td>\n      <td>732.0</td>\n      <td>0.500000</td>\n    </tr>\n  </tbody>\n</table>\n</div>"
     },
     "execution_count": 60,
     "metadata": {},
     "output_type": "execute_result"
    }
   ],
   "source": [
    "Y_test_df"
   ],
   "metadata": {
    "collapsed": false,
    "ExecuteTime": {
     "end_time": "2023-08-31T19:52:59.646880200Z",
     "start_time": "2023-08-31T19:52:59.626034100Z"
    }
   },
   "id": "7dc74dbb0027f555"
  },
  {
   "cell_type": "code",
   "execution_count": 61,
   "outputs": [
    {
     "name": "stderr",
     "output_type": "stream",
     "text": [
      "Global seed set to 1\n"
     ]
    }
   ],
   "source": [
    "\n",
    "model = Autoformer(h=12,\n",
    "                 input_size=24,\n",
    "                 hidden_size = 16,\n",
    "                 conv_hidden_size = 32,\n",
    "                 n_head=2,\n",
    "                 loss=MAE(),\n",
    "                 futr_exog_list=calendar_cols,\n",
    "                 scaler_type='robust',\n",
    "                 learning_rate=1e-3,\n",
    "                 max_steps=300,\n",
    "                 val_check_steps=50,\n",
    "                 early_stop_patience_steps=2)\n",
    "\n",
    "nf = NeuralForecast(\n",
    "    models=[model],\n",
    "    freq='M'\n",
    ")"
   ],
   "metadata": {
    "collapsed": false,
    "ExecuteTime": {
     "end_time": "2023-08-31T19:53:01.221833500Z",
     "start_time": "2023-08-31T19:53:01.191101400Z"
    }
   },
   "id": "9d4080bd4ca32e98"
  },
  {
   "cell_type": "code",
   "execution_count": 62,
   "outputs": [
    {
     "ename": "KeyError",
     "evalue": "\"None of ['ds'] are in the columns\"",
     "output_type": "error",
     "traceback": [
      "\u001B[1;31m---------------------------------------------------------------------------\u001B[0m",
      "\u001B[1;31mKeyError\u001B[0m                                  Traceback (most recent call last)",
      "Cell \u001B[1;32mIn[62], line 1\u001B[0m\n\u001B[1;32m----> 1\u001B[0m \u001B[43mnf\u001B[49m\u001B[38;5;241;43m.\u001B[39;49m\u001B[43mfit\u001B[49m\u001B[43m(\u001B[49m\u001B[43mdf\u001B[49m\u001B[38;5;241;43m=\u001B[39;49m\u001B[43mY_train_df\u001B[49m\u001B[43m,\u001B[49m\u001B[43m \u001B[49m\u001B[43mstatic_df\u001B[49m\u001B[38;5;241;43m=\u001B[39;49m\u001B[43mAirPassengersStatic\u001B[49m\u001B[43m,\u001B[49m\u001B[43m \u001B[49m\u001B[43mval_size\u001B[49m\u001B[38;5;241;43m=\u001B[39;49m\u001B[38;5;241;43m12\u001B[39;49m\u001B[43m)\u001B[49m\n",
      "File \u001B[1;32m~\\AppData\\Roaming\\Python\\Python310\\site-packages\\neuralforecast\\core.py:241\u001B[0m, in \u001B[0;36mNeuralForecast.fit\u001B[1;34m(self, df, static_df, val_size, sort_df, use_init_models, verbose)\u001B[0m\n\u001B[0;32m    239\u001B[0m \u001B[38;5;66;03m# Process and save new dataset (in self)\u001B[39;00m\n\u001B[0;32m    240\u001B[0m \u001B[38;5;28;01mif\u001B[39;00m df \u001B[38;5;129;01mis\u001B[39;00m \u001B[38;5;129;01mnot\u001B[39;00m \u001B[38;5;28;01mNone\u001B[39;00m:\n\u001B[1;32m--> 241\u001B[0m     \u001B[38;5;28mself\u001B[39m\u001B[38;5;241m.\u001B[39mdataset, \u001B[38;5;28mself\u001B[39m\u001B[38;5;241m.\u001B[39muids, \u001B[38;5;28mself\u001B[39m\u001B[38;5;241m.\u001B[39mlast_dates, \u001B[38;5;28mself\u001B[39m\u001B[38;5;241m.\u001B[39mds \u001B[38;5;241m=\u001B[39m \u001B[38;5;28;43mself\u001B[39;49m\u001B[38;5;241;43m.\u001B[39;49m\u001B[43m_prepare_fit\u001B[49m\u001B[43m(\u001B[49m\n\u001B[0;32m    242\u001B[0m \u001B[43m        \u001B[49m\u001B[43mdf\u001B[49m\u001B[38;5;241;43m=\u001B[39;49m\u001B[43mdf\u001B[49m\u001B[43m,\u001B[49m\u001B[43m \u001B[49m\u001B[43mstatic_df\u001B[49m\u001B[38;5;241;43m=\u001B[39;49m\u001B[43mstatic_df\u001B[49m\u001B[43m,\u001B[49m\u001B[43m \u001B[49m\u001B[43msort_df\u001B[49m\u001B[38;5;241;43m=\u001B[39;49m\u001B[43msort_df\u001B[49m\n\u001B[0;32m    243\u001B[0m \u001B[43m    \u001B[49m\u001B[43m)\u001B[49m\n\u001B[0;32m    244\u001B[0m     \u001B[38;5;28mself\u001B[39m\u001B[38;5;241m.\u001B[39msort_df \u001B[38;5;241m=\u001B[39m sort_df\n\u001B[0;32m    245\u001B[0m \u001B[38;5;28;01melse\u001B[39;00m:\n",
      "File \u001B[1;32m~\\AppData\\Roaming\\Python\\Python310\\site-packages\\neuralforecast\\core.py:190\u001B[0m, in \u001B[0;36mNeuralForecast._prepare_fit\u001B[1;34m(self, df, static_df, sort_df)\u001B[0m\n\u001B[0;32m    188\u001B[0m \u001B[38;5;28;01mdef\u001B[39;00m \u001B[38;5;21m_prepare_fit\u001B[39m(\u001B[38;5;28mself\u001B[39m, df, static_df, sort_df):\n\u001B[0;32m    189\u001B[0m     \u001B[38;5;66;03m# TODO: uids, last_dates and ds should be properties of the dataset class. See github issue.\u001B[39;00m\n\u001B[1;32m--> 190\u001B[0m     dataset, uids, last_dates, ds \u001B[38;5;241m=\u001B[39m \u001B[43mTimeSeriesDataset\u001B[49m\u001B[38;5;241;43m.\u001B[39;49m\u001B[43mfrom_df\u001B[49m\u001B[43m(\u001B[49m\n\u001B[0;32m    191\u001B[0m \u001B[43m        \u001B[49m\u001B[43mdf\u001B[49m\u001B[38;5;241;43m=\u001B[39;49m\u001B[43mdf\u001B[49m\u001B[43m,\u001B[49m\u001B[43m \u001B[49m\u001B[43mstatic_df\u001B[49m\u001B[38;5;241;43m=\u001B[39;49m\u001B[43mstatic_df\u001B[49m\u001B[43m,\u001B[49m\u001B[43m \u001B[49m\u001B[43msort_df\u001B[49m\u001B[38;5;241;43m=\u001B[39;49m\u001B[43msort_df\u001B[49m\n\u001B[0;32m    192\u001B[0m \u001B[43m    \u001B[49m\u001B[43m)\u001B[49m\n\u001B[0;32m    193\u001B[0m     \u001B[38;5;28;01mreturn\u001B[39;00m dataset, uids, last_dates, ds\n",
      "File \u001B[1;32m~\\AppData\\Roaming\\Python\\Python310\\site-packages\\neuralforecast\\tsdataset.py:257\u001B[0m, in \u001B[0;36mTimeSeriesDataset.from_df\u001B[1;34m(df, static_df, sort_df)\u001B[0m\n\u001B[0;32m    254\u001B[0m     \u001B[38;5;28;01mif\u001B[39;00m static_df \u001B[38;5;129;01mis\u001B[39;00m \u001B[38;5;129;01mnot\u001B[39;00m \u001B[38;5;28;01mNone\u001B[39;00m:\n\u001B[0;32m    255\u001B[0m         static_df \u001B[38;5;241m=\u001B[39m static_df\u001B[38;5;241m.\u001B[39mset_index(\u001B[38;5;124m\"\u001B[39m\u001B[38;5;124munique_id\u001B[39m\u001B[38;5;124m\"\u001B[39m)\n\u001B[1;32m--> 257\u001B[0m df \u001B[38;5;241m=\u001B[39m \u001B[43mdf\u001B[49m\u001B[38;5;241;43m.\u001B[39;49m\u001B[43mset_index\u001B[49m\u001B[43m(\u001B[49m\u001B[38;5;124;43m\"\u001B[39;49m\u001B[38;5;124;43mds\u001B[39;49m\u001B[38;5;124;43m\"\u001B[39;49m\u001B[43m,\u001B[49m\u001B[43m \u001B[49m\u001B[43mappend\u001B[49m\u001B[38;5;241;43m=\u001B[39;49m\u001B[38;5;28;43;01mTrue\u001B[39;49;00m\u001B[43m)\u001B[49m\n\u001B[0;32m    259\u001B[0m \u001B[38;5;66;03m# Sort data by index\u001B[39;00m\n\u001B[0;32m    260\u001B[0m \u001B[38;5;28;01mif\u001B[39;00m \u001B[38;5;129;01mnot\u001B[39;00m df\u001B[38;5;241m.\u001B[39mindex\u001B[38;5;241m.\u001B[39mis_monotonic_increasing \u001B[38;5;129;01mand\u001B[39;00m sort_df:\n",
      "File \u001B[1;32mC:\\anaconda3\\envs\\torch\\lib\\site-packages\\pandas\\core\\frame.py:5859\u001B[0m, in \u001B[0;36mDataFrame.set_index\u001B[1;34m(self, keys, drop, append, inplace, verify_integrity)\u001B[0m\n\u001B[0;32m   5856\u001B[0m                 missing\u001B[38;5;241m.\u001B[39mappend(col)\n\u001B[0;32m   5858\u001B[0m \u001B[38;5;28;01mif\u001B[39;00m missing:\n\u001B[1;32m-> 5859\u001B[0m     \u001B[38;5;28;01mraise\u001B[39;00m \u001B[38;5;167;01mKeyError\u001B[39;00m(\u001B[38;5;124mf\u001B[39m\u001B[38;5;124m\"\u001B[39m\u001B[38;5;124mNone of \u001B[39m\u001B[38;5;132;01m{\u001B[39;00mmissing\u001B[38;5;132;01m}\u001B[39;00m\u001B[38;5;124m are in the columns\u001B[39m\u001B[38;5;124m\"\u001B[39m)\n\u001B[0;32m   5861\u001B[0m \u001B[38;5;28;01mif\u001B[39;00m inplace:\n\u001B[0;32m   5862\u001B[0m     frame \u001B[38;5;241m=\u001B[39m \u001B[38;5;28mself\u001B[39m\n",
      "\u001B[1;31mKeyError\u001B[0m: \"None of ['ds'] are in the columns\""
     ]
    }
   ],
   "source": [
    "nf.fit(df=Y_train_df, static_df=AirPassengersStatic, val_size=12)"
   ],
   "metadata": {
    "collapsed": false,
    "ExecuteTime": {
     "end_time": "2023-08-31T19:53:02.504683600Z",
     "start_time": "2023-08-31T19:53:02.423999Z"
    }
   },
   "id": "bc910a25a0020335"
  },
  {
   "cell_type": "code",
   "execution_count": 51,
   "outputs": [
    {
     "data": {
      "text/plain": "Predicting: 0it [00:00, ?it/s]",
      "application/vnd.jupyter.widget-view+json": {
       "version_major": 2,
       "version_minor": 0,
       "model_id": "b9da23cfc9d448179b0be9517c164d7f"
      },
      "application/json": {
       "n": 0,
       "total": null,
       "elapsed": 0.005984067916870117,
       "ncols": null,
       "nrows": null,
       "prefix": "Predicting",
       "ascii": false,
       "unit": "it",
       "unit_scale": false,
       "rate": null,
       "bar_format": null,
       "postfix": null,
       "unit_divisor": 1000,
       "initial": 0,
       "colour": null
      }
     },
     "metadata": {},
     "output_type": "display_data"
    }
   ],
   "source": [
    "forecasts = nf.predict(futr_df=Y_test_df)"
   ],
   "metadata": {
    "collapsed": false,
    "ExecuteTime": {
     "end_time": "2023-08-31T19:49:10.583020800Z",
     "start_time": "2023-08-31T19:49:10.479112100Z"
    }
   },
   "id": "84e75001085c0740"
  },
  {
   "cell_type": "code",
   "execution_count": 52,
   "outputs": [
    {
     "data": {
      "text/plain": "   unique_id         ds      y     month\n0   Airline1 1960-01-31  417.0 -0.500000\n1   Airline1 1960-02-29  391.0 -0.409091\n2   Airline1 1960-03-31  419.0 -0.318182\n3   Airline1 1960-04-30  461.0 -0.227273\n4   Airline1 1960-05-31  472.0 -0.136364\n5   Airline1 1960-06-30  535.0 -0.045455\n6   Airline1 1960-07-31  622.0  0.045455\n7   Airline1 1960-08-31  606.0  0.136364\n8   Airline1 1960-09-30  508.0  0.227273\n9   Airline1 1960-10-31  461.0  0.318182\n10  Airline1 1960-11-30  390.0  0.409091\n11  Airline1 1960-12-31  432.0  0.500000\n12  Airline2 1960-01-31  717.0 -0.500000\n13  Airline2 1960-02-29  691.0 -0.409091\n14  Airline2 1960-03-31  719.0 -0.318182\n15  Airline2 1960-04-30  761.0 -0.227273\n16  Airline2 1960-05-31  772.0 -0.136364\n17  Airline2 1960-06-30  835.0 -0.045455\n18  Airline2 1960-07-31  922.0  0.045455\n19  Airline2 1960-08-31  906.0  0.136364\n20  Airline2 1960-09-30  808.0  0.227273\n21  Airline2 1960-10-31  761.0  0.318182\n22  Airline2 1960-11-30  690.0  0.409091\n23  Airline2 1960-12-31  732.0  0.500000",
      "text/html": "<div>\n<style scoped>\n    .dataframe tbody tr th:only-of-type {\n        vertical-align: middle;\n    }\n\n    .dataframe tbody tr th {\n        vertical-align: top;\n    }\n\n    .dataframe thead th {\n        text-align: right;\n    }\n</style>\n<table border=\"1\" class=\"dataframe\">\n  <thead>\n    <tr style=\"text-align: right;\">\n      <th></th>\n      <th>unique_id</th>\n      <th>ds</th>\n      <th>y</th>\n      <th>month</th>\n    </tr>\n  </thead>\n  <tbody>\n    <tr>\n      <th>0</th>\n      <td>Airline1</td>\n      <td>1960-01-31</td>\n      <td>417.0</td>\n      <td>-0.500000</td>\n    </tr>\n    <tr>\n      <th>1</th>\n      <td>Airline1</td>\n      <td>1960-02-29</td>\n      <td>391.0</td>\n      <td>-0.409091</td>\n    </tr>\n    <tr>\n      <th>2</th>\n      <td>Airline1</td>\n      <td>1960-03-31</td>\n      <td>419.0</td>\n      <td>-0.318182</td>\n    </tr>\n    <tr>\n      <th>3</th>\n      <td>Airline1</td>\n      <td>1960-04-30</td>\n      <td>461.0</td>\n      <td>-0.227273</td>\n    </tr>\n    <tr>\n      <th>4</th>\n      <td>Airline1</td>\n      <td>1960-05-31</td>\n      <td>472.0</td>\n      <td>-0.136364</td>\n    </tr>\n    <tr>\n      <th>5</th>\n      <td>Airline1</td>\n      <td>1960-06-30</td>\n      <td>535.0</td>\n      <td>-0.045455</td>\n    </tr>\n    <tr>\n      <th>6</th>\n      <td>Airline1</td>\n      <td>1960-07-31</td>\n      <td>622.0</td>\n      <td>0.045455</td>\n    </tr>\n    <tr>\n      <th>7</th>\n      <td>Airline1</td>\n      <td>1960-08-31</td>\n      <td>606.0</td>\n      <td>0.136364</td>\n    </tr>\n    <tr>\n      <th>8</th>\n      <td>Airline1</td>\n      <td>1960-09-30</td>\n      <td>508.0</td>\n      <td>0.227273</td>\n    </tr>\n    <tr>\n      <th>9</th>\n      <td>Airline1</td>\n      <td>1960-10-31</td>\n      <td>461.0</td>\n      <td>0.318182</td>\n    </tr>\n    <tr>\n      <th>10</th>\n      <td>Airline1</td>\n      <td>1960-11-30</td>\n      <td>390.0</td>\n      <td>0.409091</td>\n    </tr>\n    <tr>\n      <th>11</th>\n      <td>Airline1</td>\n      <td>1960-12-31</td>\n      <td>432.0</td>\n      <td>0.500000</td>\n    </tr>\n    <tr>\n      <th>12</th>\n      <td>Airline2</td>\n      <td>1960-01-31</td>\n      <td>717.0</td>\n      <td>-0.500000</td>\n    </tr>\n    <tr>\n      <th>13</th>\n      <td>Airline2</td>\n      <td>1960-02-29</td>\n      <td>691.0</td>\n      <td>-0.409091</td>\n    </tr>\n    <tr>\n      <th>14</th>\n      <td>Airline2</td>\n      <td>1960-03-31</td>\n      <td>719.0</td>\n      <td>-0.318182</td>\n    </tr>\n    <tr>\n      <th>15</th>\n      <td>Airline2</td>\n      <td>1960-04-30</td>\n      <td>761.0</td>\n      <td>-0.227273</td>\n    </tr>\n    <tr>\n      <th>16</th>\n      <td>Airline2</td>\n      <td>1960-05-31</td>\n      <td>772.0</td>\n      <td>-0.136364</td>\n    </tr>\n    <tr>\n      <th>17</th>\n      <td>Airline2</td>\n      <td>1960-06-30</td>\n      <td>835.0</td>\n      <td>-0.045455</td>\n    </tr>\n    <tr>\n      <th>18</th>\n      <td>Airline2</td>\n      <td>1960-07-31</td>\n      <td>922.0</td>\n      <td>0.045455</td>\n    </tr>\n    <tr>\n      <th>19</th>\n      <td>Airline2</td>\n      <td>1960-08-31</td>\n      <td>906.0</td>\n      <td>0.136364</td>\n    </tr>\n    <tr>\n      <th>20</th>\n      <td>Airline2</td>\n      <td>1960-09-30</td>\n      <td>808.0</td>\n      <td>0.227273</td>\n    </tr>\n    <tr>\n      <th>21</th>\n      <td>Airline2</td>\n      <td>1960-10-31</td>\n      <td>761.0</td>\n      <td>0.318182</td>\n    </tr>\n    <tr>\n      <th>22</th>\n      <td>Airline2</td>\n      <td>1960-11-30</td>\n      <td>690.0</td>\n      <td>0.409091</td>\n    </tr>\n    <tr>\n      <th>23</th>\n      <td>Airline2</td>\n      <td>1960-12-31</td>\n      <td>732.0</td>\n      <td>0.500000</td>\n    </tr>\n  </tbody>\n</table>\n</div>"
     },
     "execution_count": 52,
     "metadata": {},
     "output_type": "execute_result"
    }
   ],
   "source": [
    "Y_test_df"
   ],
   "metadata": {
    "collapsed": false,
    "ExecuteTime": {
     "end_time": "2023-08-31T19:49:12.435595900Z",
     "start_time": "2023-08-31T19:49:12.391676500Z"
    }
   },
   "id": "24b17c7b863f3636"
  },
  {
   "cell_type": "code",
   "execution_count": 53,
   "outputs": [
    {
     "data": {
      "text/plain": "                  ds  Autoformer\nunique_id                       \nAirline1  1960-01-31  407.213226\nAirline1  1960-02-29  408.232025\nAirline1  1960-03-31  447.086182\nAirline1  1960-04-30  448.556549\nAirline1  1960-05-31  453.166901\nAirline1  1960-06-30  503.543854\nAirline1  1960-07-31  591.610657\nAirline1  1960-08-31  605.109619\nAirline1  1960-09-30  530.382874\nAirline1  1960-10-31  456.241760\nAirline1  1960-11-30  408.948456\nAirline1  1960-12-31  421.124023\nAirline2  1960-01-31  707.213257\nAirline2  1960-02-29  708.232056\nAirline2  1960-03-31  747.086182\nAirline2  1960-04-30  748.556580\nAirline2  1960-05-31  753.166870\nAirline2  1960-06-30  803.543823\nAirline2  1960-07-31  891.610657\nAirline2  1960-08-31  905.109619\nAirline2  1960-09-30  830.382874\nAirline2  1960-10-31  756.241760\nAirline2  1960-11-30  708.948425\nAirline2  1960-12-31  721.124023",
      "text/html": "<div>\n<style scoped>\n    .dataframe tbody tr th:only-of-type {\n        vertical-align: middle;\n    }\n\n    .dataframe tbody tr th {\n        vertical-align: top;\n    }\n\n    .dataframe thead th {\n        text-align: right;\n    }\n</style>\n<table border=\"1\" class=\"dataframe\">\n  <thead>\n    <tr style=\"text-align: right;\">\n      <th></th>\n      <th>ds</th>\n      <th>Autoformer</th>\n    </tr>\n    <tr>\n      <th>unique_id</th>\n      <th></th>\n      <th></th>\n    </tr>\n  </thead>\n  <tbody>\n    <tr>\n      <th>Airline1</th>\n      <td>1960-01-31</td>\n      <td>407.213226</td>\n    </tr>\n    <tr>\n      <th>Airline1</th>\n      <td>1960-02-29</td>\n      <td>408.232025</td>\n    </tr>\n    <tr>\n      <th>Airline1</th>\n      <td>1960-03-31</td>\n      <td>447.086182</td>\n    </tr>\n    <tr>\n      <th>Airline1</th>\n      <td>1960-04-30</td>\n      <td>448.556549</td>\n    </tr>\n    <tr>\n      <th>Airline1</th>\n      <td>1960-05-31</td>\n      <td>453.166901</td>\n    </tr>\n    <tr>\n      <th>Airline1</th>\n      <td>1960-06-30</td>\n      <td>503.543854</td>\n    </tr>\n    <tr>\n      <th>Airline1</th>\n      <td>1960-07-31</td>\n      <td>591.610657</td>\n    </tr>\n    <tr>\n      <th>Airline1</th>\n      <td>1960-08-31</td>\n      <td>605.109619</td>\n    </tr>\n    <tr>\n      <th>Airline1</th>\n      <td>1960-09-30</td>\n      <td>530.382874</td>\n    </tr>\n    <tr>\n      <th>Airline1</th>\n      <td>1960-10-31</td>\n      <td>456.241760</td>\n    </tr>\n    <tr>\n      <th>Airline1</th>\n      <td>1960-11-30</td>\n      <td>408.948456</td>\n    </tr>\n    <tr>\n      <th>Airline1</th>\n      <td>1960-12-31</td>\n      <td>421.124023</td>\n    </tr>\n    <tr>\n      <th>Airline2</th>\n      <td>1960-01-31</td>\n      <td>707.213257</td>\n    </tr>\n    <tr>\n      <th>Airline2</th>\n      <td>1960-02-29</td>\n      <td>708.232056</td>\n    </tr>\n    <tr>\n      <th>Airline2</th>\n      <td>1960-03-31</td>\n      <td>747.086182</td>\n    </tr>\n    <tr>\n      <th>Airline2</th>\n      <td>1960-04-30</td>\n      <td>748.556580</td>\n    </tr>\n    <tr>\n      <th>Airline2</th>\n      <td>1960-05-31</td>\n      <td>753.166870</td>\n    </tr>\n    <tr>\n      <th>Airline2</th>\n      <td>1960-06-30</td>\n      <td>803.543823</td>\n    </tr>\n    <tr>\n      <th>Airline2</th>\n      <td>1960-07-31</td>\n      <td>891.610657</td>\n    </tr>\n    <tr>\n      <th>Airline2</th>\n      <td>1960-08-31</td>\n      <td>905.109619</td>\n    </tr>\n    <tr>\n      <th>Airline2</th>\n      <td>1960-09-30</td>\n      <td>830.382874</td>\n    </tr>\n    <tr>\n      <th>Airline2</th>\n      <td>1960-10-31</td>\n      <td>756.241760</td>\n    </tr>\n    <tr>\n      <th>Airline2</th>\n      <td>1960-11-30</td>\n      <td>708.948425</td>\n    </tr>\n    <tr>\n      <th>Airline2</th>\n      <td>1960-12-31</td>\n      <td>721.124023</td>\n    </tr>\n  </tbody>\n</table>\n</div>"
     },
     "execution_count": 53,
     "metadata": {},
     "output_type": "execute_result"
    }
   ],
   "source": [
    "forecasts"
   ],
   "metadata": {
    "collapsed": false,
    "ExecuteTime": {
     "end_time": "2023-08-31T19:49:14.730049100Z",
     "start_time": "2023-08-31T19:49:14.713568500Z"
    }
   },
   "id": "aa5e0f576680acb7"
  },
  {
   "cell_type": "code",
   "execution_count": 54,
   "outputs": [],
   "source": [
    "Y_hat_df = forecasts.reset_index(drop=False).drop(columns=['unique_id','ds'])\n",
    "plot_df = pd.concat([Y_test_df, Y_hat_df], axis=1)\n",
    "plot_df = pd.concat([Y_train_df, plot_df])\n",
    "\n",
    "plot_df = plot_df[plot_df.unique_id=='Airline1'].drop('unique_id', axis=1)"
   ],
   "metadata": {
    "collapsed": false,
    "ExecuteTime": {
     "end_time": "2023-08-31T19:49:18.171602Z",
     "start_time": "2023-08-31T19:49:18.157542300Z"
    }
   },
   "id": "dbdfef60ac672972"
  },
  {
   "cell_type": "code",
   "execution_count": 55,
   "outputs": [
    {
     "data": {
      "text/plain": "           ds      y     month  Autoformer\n0  1949-01-31  112.0 -0.500000         NaN\n1  1949-02-28  118.0 -0.409091         NaN\n2  1949-03-31  132.0 -0.318182         NaN\n3  1949-04-30  129.0 -0.227273         NaN\n4  1949-05-31  121.0 -0.136364         NaN\n..        ...    ...       ...         ...\n7  1960-08-31  606.0  0.136364  605.109619\n8  1960-09-30  508.0  0.227273  530.382874\n9  1960-10-31  461.0  0.318182  456.241760\n10 1960-11-30  390.0  0.409091  408.948456\n11 1960-12-31  432.0  0.500000  421.124023\n\n[144 rows x 4 columns]",
      "text/html": "<div>\n<style scoped>\n    .dataframe tbody tr th:only-of-type {\n        vertical-align: middle;\n    }\n\n    .dataframe tbody tr th {\n        vertical-align: top;\n    }\n\n    .dataframe thead th {\n        text-align: right;\n    }\n</style>\n<table border=\"1\" class=\"dataframe\">\n  <thead>\n    <tr style=\"text-align: right;\">\n      <th></th>\n      <th>ds</th>\n      <th>y</th>\n      <th>month</th>\n      <th>Autoformer</th>\n    </tr>\n  </thead>\n  <tbody>\n    <tr>\n      <th>0</th>\n      <td>1949-01-31</td>\n      <td>112.0</td>\n      <td>-0.500000</td>\n      <td>NaN</td>\n    </tr>\n    <tr>\n      <th>1</th>\n      <td>1949-02-28</td>\n      <td>118.0</td>\n      <td>-0.409091</td>\n      <td>NaN</td>\n    </tr>\n    <tr>\n      <th>2</th>\n      <td>1949-03-31</td>\n      <td>132.0</td>\n      <td>-0.318182</td>\n      <td>NaN</td>\n    </tr>\n    <tr>\n      <th>3</th>\n      <td>1949-04-30</td>\n      <td>129.0</td>\n      <td>-0.227273</td>\n      <td>NaN</td>\n    </tr>\n    <tr>\n      <th>4</th>\n      <td>1949-05-31</td>\n      <td>121.0</td>\n      <td>-0.136364</td>\n      <td>NaN</td>\n    </tr>\n    <tr>\n      <th>...</th>\n      <td>...</td>\n      <td>...</td>\n      <td>...</td>\n      <td>...</td>\n    </tr>\n    <tr>\n      <th>7</th>\n      <td>1960-08-31</td>\n      <td>606.0</td>\n      <td>0.136364</td>\n      <td>605.109619</td>\n    </tr>\n    <tr>\n      <th>8</th>\n      <td>1960-09-30</td>\n      <td>508.0</td>\n      <td>0.227273</td>\n      <td>530.382874</td>\n    </tr>\n    <tr>\n      <th>9</th>\n      <td>1960-10-31</td>\n      <td>461.0</td>\n      <td>0.318182</td>\n      <td>456.241760</td>\n    </tr>\n    <tr>\n      <th>10</th>\n      <td>1960-11-30</td>\n      <td>390.0</td>\n      <td>0.409091</td>\n      <td>408.948456</td>\n    </tr>\n    <tr>\n      <th>11</th>\n      <td>1960-12-31</td>\n      <td>432.0</td>\n      <td>0.500000</td>\n      <td>421.124023</td>\n    </tr>\n  </tbody>\n</table>\n<p>144 rows × 4 columns</p>\n</div>"
     },
     "execution_count": 55,
     "metadata": {},
     "output_type": "execute_result"
    }
   ],
   "source": [
    "plot_df"
   ],
   "metadata": {
    "collapsed": false,
    "ExecuteTime": {
     "end_time": "2023-08-31T19:49:18.963033Z",
     "start_time": "2023-08-31T19:49:18.919351200Z"
    }
   },
   "id": "bdbccbb3150de70f"
  },
  {
   "cell_type": "code",
   "execution_count": 56,
   "outputs": [
    {
     "data": {
      "text/plain": "<Figure size 640x480 with 1 Axes>",
      "image/png": "[encoded data removed]"
     },
     "metadata": {},
     "output_type": "display_data"
    }
   ],
   "source": [
    "Y_hat_df = forecasts.reset_index(drop=False).drop(columns=['unique_id','ds'])\n",
    "plot_df = pd.concat([Y_test_df, Y_hat_df], axis=1)\n",
    "plot_df = pd.concat([Y_train_df, plot_df])\n",
    "\n",
    "plot_df = plot_df[plot_df.unique_id=='Airline2'].drop('unique_id', axis=1)\n",
    "\n",
    "plt.plot(plot_df['ds'], plot_df['y'], c='black', label='True')\n",
    "# plt.plot(plot_df['y'].values, c='black', label='True')\n",
    "plt.plot(plot_df['ds'], plot_df['Autoformer'], c='blue', label='Forecast')\n",
    "\n",
    "plt.legend()\n",
    "plt.grid()\n",
    "plt.show()\n"
   ],
   "metadata": {
    "collapsed": false,
    "ExecuteTime": {
     "end_time": "2023-08-31T19:49:21.445294600Z",
     "start_time": "2023-08-31T19:49:21.288550Z"
    }
   },
   "id": "ab6e94317981340b"
  }
 ],
 "metadata": {
  "kernelspec": {
   "name": "torch",
   "language": "python",
   "display_name": "torch"
  },
  "language_info": {
   "codemirror_mode": {
    "name": "ipython",
    "version": 2
   },
   "file_extension": ".py",
   "mimetype": "text/x-python",
   "name": "python",
   "nbconvert_exporter": "python",
   "pygments_lexer": "ipython2",
   "version": "2.7.6"
  }
 },
 "nbformat": 4,
 "nbformat_minor": 5
}
