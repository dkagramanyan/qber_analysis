{
 "cells": [
  {
   "cell_type": "code",
   "execution_count": null,
   "id": "initial_id",
   "metadata": {},
   "outputs": [],
   "source": [
    "import torch\n",
    "import numpy as np\n",
    "\n",
    "import pandas as pd\n",
    "import matplotlib.pyplot as plt\n",
    "\n",
    "import os\n",
    "os.environ[\"KMP_DUPLICATE_LIB_OK\"]=\"TRUE\"\n",
    "%matplotlib inline\n",
    "from torch.utils.data import Dataset, DataLoader\n",
    "from data_provider.data_factory import data_provider\n",
    "\n",
    "from tqdm.notebook import tqdm\n",
    "\n",
    "from sklearn.metrics import r2_score, mean_squared_error\n",
    "\n",
    "\n",
    "from autoformer_inference import Autoformer,time_features"
   ]
  },
  {
   "cell_type": "code",
   "execution_count": null,
   "id": "7a2963aa57510491",
   "metadata": {
    "collapsed": false
   },
   "outputs": [],
   "source": [
    "setting='qber_96_48_60_loginf_t_non_outliers_Autoformer_custom_ftMS_sl96_ll48_pl1_dm512_nh8_el6_dl6_df2048_fc1_ebtimeF_dtFalse_Exp_0'\n",
    "# setting='qber_96_48_60_loginf_t_non_outliers_pred_3_Autoformer_custom_ftMS_sl96_ll48_pl3_dm512_nh8_el6_dl8_df2048_fc1_ebtimeF_dtFalse_Exp_0'\n",
    "# setting='qber_96_48_60_loginf_t_outliers_Autoformer_custom_ftMS_sl96_ll48_pl1_dm512_nh8_el6_dl6_df2048_fc1_ebtimeF_dtFalse_Exp_0'\n",
    "\n",
    "path=f'./checkpoints/{setting}/checkpoint.pth'\n",
    "\n",
    "seq_len=96\n",
    "label_len=48\n",
    "# pred_len=1\n",
    "pred_len=1\n",
    "\n",
    "model = Autoformer(\n",
    "        dropout=0.05,\n",
    "        freq='t',\n",
    "        seq_len=seq_len,\n",
    "        label_len=label_len,\n",
    "        pred_len=pred_len,\n",
    "        e_layers=6,\n",
    "        d_layers=6,\n",
    "        # d_layers=8,\n",
    "        n_heads=8,\n",
    "        factor=1,\n",
    "        enc_in=6,\n",
    "        dec_in=6,\n",
    "        c_out=6,\n",
    "        d_model=512,\n",
    "        d_ff=2048,\n",
    "        moving_avg=25,\n",
    "        output_attention=True,\n",
    "        embed='timeF',\n",
    "        activation='gelu',)\n",
    "\n",
    "model.load_state_dict(torch.load(path))\n",
    "\n",
    "device='cuda'\n",
    "model.to(device)"
   ]
  },
  {
   "cell_type": "code",
   "execution_count": null,
   "id": "39144779e0f1994d",
   "metadata": {
    "collapsed": false
   },
   "outputs": [],
   "source": [
    "setting='qber_96_12_60_loginf_t_non_outliers_Autoformer_custom_ftMS_sl96_ll12_pl1_dm512_nh8_el6_dl8_df2048_fc1_ebtimeF_dtFalse_Exp_0'\n",
    "path=f'./checkpoints/{setting}/checkpoint.pth'\n",
    "\n",
    "seq_len=96\n",
    "label_len=12\n",
    "pred_len=1\n",
    "\n",
    "model = Autoformer(\n",
    "    dropout=0.05,\n",
    "    freq='t',\n",
    "    seq_len=seq_len,\n",
    "    label_len=label_len,\n",
    "    pred_len=pred_len,\n",
    "    e_layers=6,\n",
    "    d_layers=8,\n",
    "    n_heads=8,\n",
    "    factor=1,\n",
    "    enc_in=6,\n",
    "    dec_in=6,\n",
    "    c_out=6,\n",
    "    d_model=512,\n",
    "    d_ff=2048,\n",
    "    moving_avg=25,\n",
    "    output_attention=True,\n",
    "    embed='timeF',\n",
    "    activation='gelu',)\n",
    "\n",
    "model.load_state_dict(torch.load(path))\n",
    "\n",
    "device='cuda'\n",
    "model.to(device)\n"
   ]
  },
  {
   "cell_type": "code",
   "execution_count": null,
   "id": "43b4bed158cc0609",
   "metadata": {
    "collapsed": false
   },
   "outputs": [],
   "source": [
    "def preprocess_autoformer(df_raw, seq_len, label_len,pred_len, device, embed='timeF', target='e_mu_current',freq='t', step=60):\n",
    "\n",
    "    timeenc = 0 if embed != 'timeF' else 1\n",
    "\n",
    "    cols = list(df_raw.columns)\n",
    "    cols.remove(target)\n",
    "    cols.remove('date')\n",
    "\n",
    "    df_raw = df_raw[['date'] + cols + [target]]\n",
    "    border1 = len(df_raw) - seq_len\n",
    "    border2 = len(df_raw)\n",
    "\n",
    "    cols_data = df_raw.columns[1:]\n",
    "    df_data = df_raw[cols_data]\n",
    "\n",
    "    data = df_data.values\n",
    "\n",
    "    tmp_stamp = df_raw[['date']][border1:border2]\n",
    "    tmp_stamp['date'] = pd.to_datetime(tmp_stamp.date)\n",
    "    pred_dates = pd.date_range(tmp_stamp.date.values[-1], periods=pred_len + 1, freq=freq)\n",
    "    \n",
    "    df_stamp = pd.DataFrame(columns=['date'])\n",
    "    df_stamp.date = list(tmp_stamp.date.values) + list(pred_dates[1:])\n",
    "\n",
    "    if timeenc == 0:\n",
    "        df_stamp['month'] = df_stamp.date.apply(lambda row: row.month, 1)\n",
    "        df_stamp['day'] = df_stamp.date.apply(lambda row: row.day, 1)\n",
    "        df_stamp['weekday'] = df_stamp.date.apply(lambda row: row.weekday(), 1)\n",
    "        df_stamp['hour'] = df_stamp.date.apply(lambda row: row.hour, 1)\n",
    "        data_stamp = df_stamp.drop(['date'], 1).values\n",
    "    elif timeenc == 1:\n",
    "        data_stamp = time_features(pd.to_datetime(df_stamp['date'].values), freq=freq)\n",
    "        data_stamp = data_stamp.transpose(1, 0)\n",
    "\n",
    "    data_x = data[border1:border2]\n",
    "    data_y = data[border1:border2]\n",
    "\n",
    "    s_begin = 0\n",
    "    s_end = s_begin + seq_len\n",
    "    r_begin = s_end - label_len\n",
    "    r_end = r_begin + label_len + pred_len\n",
    "\n",
    "    seq_x = data_x[s_begin:s_end]\n",
    "    seq_y = data_y[r_begin:r_begin + label_len]\n",
    "    seq_x_mark = data_stamp[s_begin:s_end]\n",
    "    seq_y_mark = data_stamp[r_begin:r_end]\n",
    "\n",
    "    batch_x = torch.FloatTensor(seq_x).unsqueeze(0).to(device)\n",
    "    batch_y = torch.FloatTensor(seq_y).unsqueeze(0).to(device)\n",
    "    batch_x_mark = torch.FloatTensor(seq_x_mark).unsqueeze(0).to(device)\n",
    "    batch_y_mark = torch.FloatTensor(seq_y_mark).unsqueeze(0).to(device)\n",
    "\n",
    "    dec_inp = torch.zeros_like(batch_y[:, -pred_len:, :]).float()\n",
    "    dec_inp = torch.cat([batch_y[:, :label_len, :], dec_inp], dim=1).float().to(device)\n",
    "\n",
    "    return batch_x, batch_x_mark, dec_inp, batch_y_mark\n",
    "\n",
    "def autoformer_predict(model, df_tmp, pred_len=3, f_dim=-1,seq_len=96,label_len=48, output_attention=True):\n",
    "\n",
    "    batch_x, batch_x_mark, dec_inp, batch_y_mark = preprocess_autoformer(df_tmp,seq_len, label_len,pred_len, device=device)\n",
    "\n",
    "    outputs = model(batch_x, batch_x_mark, dec_inp, batch_y_mark)\n",
    "\n",
    "    if output_attention:\n",
    "        outputs = outputs[0]\n",
    "\n",
    "    outputs = outputs[:, -pred_len:, f_dim:]\n",
    "    pred = outputs.detach().cpu().numpy()[0]\n",
    "\n",
    "    return pred[-pred_len:]"
   ]
  },
  {
   "cell_type": "code",
   "execution_count": null,
   "id": "6aa462aaa4056cc2",
   "metadata": {
    "collapsed": false
   },
   "outputs": [],
   "source": [
    "df = pd.read_csv('datasets/non_outliers_step=60_log_inf_test=0.1.csv')\n",
    "# df = pd.read_csv('datasets/outliers_step=60_log_inf_test=0.1.csv')"
   ]
  },
  {
   "cell_type": "code",
   "execution_count": null,
   "id": "a96d965841b89ae7",
   "metadata": {
    "collapsed": false
   },
   "outputs": [],
   "source": [
    "model.eval()\n",
    "\n",
    "preds = []\n",
    "trues = []\n",
    "\n",
    "with torch.no_grad():\n",
    "    for i  in tqdm(range(len(df)-seq_len)):\n",
    "        \n",
    "        df_tmp=df.iloc[i:i+seq_len]\n",
    "\n",
    "        pred = autoformer_predict(model, df_tmp,pred_len=pred_len)[0]\n",
    "        true = df['e_mu_current'].iloc[i+seq_len+pred_len-2]\n",
    "        \n",
    "        preds.append(pred)\n",
    "        trues.append(true)\n"
   ]
  },
  {
   "cell_type": "code",
   "execution_count": null,
   "id": "2b8b14b9583f4d65",
   "metadata": {
    "collapsed": false
   },
   "outputs": [],
   "source": [
    "setting='qber_96_12_60_loginf_t_non_outliers_Autoformer_custom_ftMS_sl96_ll12_pl1_dm512_nh8_el6_dl8_df2048_fc1_ebtimeF_dtFalse_Exp_0'\n",
    "\n",
    "print('R^2:',r2_score(np.exp(trues), np.exp(preds)))\n",
    "print('MSE:',mean_squared_error(np.exp(trues), np.exp(preds)))"
   ]
  },
  {
   "cell_type": "code",
   "execution_count": null,
   "id": "2908388a08cd6e92",
   "metadata": {
    "collapsed": false
   },
   "outputs": [],
   "source": [
    "setting='qber_96_48_60_loginf_t_non_outliers_Autoformer_custom_ftMS_sl96_ll48_pl1_dm512_nh8_el6_dl6_df2048_fc1_ebtimeF_dtFalse_Exp_0'\n",
    "\n",
    "print('R^2:',r2_score(np.exp(trues), np.exp(preds)))\n",
    "print('MSE:',mean_squared_error(np.exp(trues), np.exp(preds)))"
   ]
  },
  {
   "cell_type": "code",
   "execution_count": null,
   "id": "f5e3a96daeefca2e",
   "metadata": {
    "collapsed": false
   },
   "outputs": [],
   "source": [
    "trues=np.array(trues)\n",
    "preds=np.array(preds)\n",
    "plt.figure(figsize=(20,5))\n",
    "\n",
    "plt.plot(np.exp(trues)[:300])\n",
    "# plt.plot(np.exp(df['e_mu_current'].iloc[seq_len:326+seq_len])[:300])\n",
    "plt.plot(np.exp(preds)[:300])\n",
    "plt.legend(['true', 'predicted'])\n",
    "plt.show()"
   ]
  },
  {
   "cell_type": "code",
   "execution_count": null,
   "outputs": [],
   "source": [
    "preds"
   ],
   "metadata": {
    "collapsed": false
   },
   "id": "d1b3ac391aae01c1"
  },
  {
   "cell_type": "code",
   "execution_count": null,
   "id": "23c7f9d0f9cfe60c",
   "metadata": {
    "collapsed": false
   },
   "outputs": [],
   "source": [
    "trues=np.array(trues)\n",
    "preds=np.array(preds)\n",
    "plt.figure(figsize=(15,5))\n",
    "\n",
    "plt.plot(np.exp(trues))\n",
    "plt.plot(np.exp(preds))\n",
    "plt.legend(['true', 'predicted'])\n",
    "plt.show()"
   ]
  },
  {
   "cell_type": "code",
   "execution_count": null,
   "id": "7869f75ddafab48a",
   "metadata": {
    "collapsed": false
   },
   "outputs": [],
   "source": [
    "trues=np.array(trues)\n",
    "preds=np.array(preds)\n",
    "plt.figure(figsize=(15,5))\n",
    "\n",
    "plt.plot(np.exp(trues))\n",
    "plt.plot(np.exp(preds))\n",
    "plt.legend(['true', 'predicted'])\n",
    "plt.show()"
   ]
  }
 ],
 "metadata": {
  "kernelspec": {
   "display_name": "torch",
   "language": "python",
   "name": "torch"
  },
  "language_info": {
   "codemirror_mode": {
    "name": "ipython",
    "version": 3
   },
   "file_extension": ".py",
   "mimetype": "text/x-python",
   "name": "python",
   "nbconvert_exporter": "python",
   "pygments_lexer": "ipython3",
   "version": "3.10.12"
  }
 },
 "nbformat": 4,
 "nbformat_minor": 5
}
