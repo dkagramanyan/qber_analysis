{
 "cells": [
  {
   "cell_type": "code",
   "execution_count": null,
   "metadata": {},
   "outputs": [],
   "source": [
    "import os\n",
    "import argparse\n",
    "import os\n",
    "import torch\n",
    "from exp.exp_main import Exp_Main\n",
    "import random\n",
    "import numpy as np\n",
    "from utils.tools import dotdict\n",
    "import pandas as pd\n",
    "import matplotlib.pyplot as plt\n",
    "from sklearn import preprocessing\n",
    "\n",
    "import os\n",
    "import datetime\n",
    "os.environ[\"KMP_DUPLICATE_LIB_OK\"]=\"TRUE\"\n",
    "%matplotlib inline"
   ]
  },
  {
   "cell_type": "code",
   "execution_count": null,
   "metadata": {
    "collapsed": false
   },
   "outputs": [],
   "source": [
    "def get_ds(index,start_ts=0,step=120):\n",
    "    index_tmp=index*step+start_ts\n",
    "    date=datetime.datetime.fromtimestamp(index_tmp).strftime('%Y-%m-%d %H:%M:%S')\n",
    "    date=pd.Timestamp(date)\n",
    "    return date\n",
    "\n",
    "def norm(value):\n",
    "    # if value>0.05:\n",
    "    #     return 0.05\n",
    "    if value<0.005:\n",
    "        return 0.0108-0.0023\n",
    "    else:\n",
    "        return value\n",
    "\n",
    "df=pd.read_csv('datasets/data.csv')\n",
    "\n",
    "df['index']=range(df.__len__())\n",
    "df['date']=df['index'].map(get_ds)\n",
    "\n",
    "# df['ts_norm']=df['index'].map(get_norm_time)\n",
    "\n",
    "# del df['index']\n",
    "del df['id']\n",
    "\n",
    "df['e_mu_current']=df['e_mu_current'].map(norm)\n",
    "\n",
    "# df['OT']=np.log(df['OT'])\n",
    "# df['e_nu_1']=np.log(df['e_nu_1'])\n",
    "# df['e_nu_2']=np.log(df['e_nu_2'])\n",
    "# df['q_mu']=np.log(df['q_mu'])\n",
    "# df['q_nu1']=np.log(df['q_nu1'])\n",
    "# df['q_nu2']=np.log(df['q_nu2'])\n",
    "df['e_mu_current']=np.log(df['e_mu_current'])\n",
    "\n",
    "\n",
    "# df['e_mu_current']=(df['e_mu_current']-np.mean(df['e_mu_current']))/np.std(df['e_mu_current'])\n",
    "\n",
    "plt.plot(df['e_mu_current'])\n",
    "plt.show()"
   ]
  },
  {
   "cell_type": "code",
   "execution_count": null,
   "metadata": {
    "collapsed": false
   },
   "outputs": [],
   "source": [
    "print(np.max(np.exp(df['e_mu_current'])))\n",
    "print(np.min(np.exp(df['e_mu_current'])))\n",
    "print(np.mean((df['e_mu_current'])))\n",
    "print(np.std(df['e_mu_current']))"
   ]
  },
  {
   "cell_type": "code",
   "execution_count": null,
   "metadata": {
    "collapsed": false
   },
   "outputs": [],
   "source": [
    "outliers=pd.read_csv('./../datasets_qrate/outliers_info.csv')[['index','class','steps_to_anomaly']]\n",
    "\n",
    "def replace_str(value):\n",
    "    if value=='anomaly':\n",
    "        return 1\n",
    "    else:\n",
    "        return 0\n",
    "\n",
    "outliers['class']=outliers['class'].map(replace_str)\n",
    "outliers"
   ]
  },
  {
   "cell_type": "code",
   "execution_count": null,
   "metadata": {
    "collapsed": false
   },
   "outputs": [],
   "source": [
    "df_outliers=df.iloc[outliers['index']]\n",
    "\n",
    "df_non_outliers = pd.merge(df,df_outliers, on='index',how='left')\n",
    "df_non_outliers = df[~df.isin(df_outliers)].dropna()\n",
    "df_non_outliers"
   ]
  },
  {
   "cell_type": "code",
   "execution_count": null,
   "metadata": {
    "collapsed": false
   },
   "outputs": [],
   "source": [
    "del df_non_outliers['index']\n",
    "del df_outliers['index']\n",
    "\n",
    "print(len(df_non_outliers))\n",
    "print(len(df_non_outliers)*0.1)\n",
    "print(len(df_outliers))\n",
    "print(len(df_outliers)*0.1)"
   ]
  },
  {
   "cell_type": "code",
   "execution_count": null,
   "metadata": {
    "collapsed": false
   },
   "outputs": [],
   "source": [
    "df_non_outliers.iloc[:-18160].to_csv('datasets/non_outliers_step=120_log_inf_train=0.9.csv',index=False,)\n",
    "df_non_outliers.iloc[-18160:].to_csv('datasets/non_outliers_step=120_log_inf_test=0.1.csv',index=False,)\n",
    "\n",
    "df_outliers.iloc[:-300].to_csv('datasets/outliers_step=120_log_inf_train=0.9.csv',index=False,)\n",
    "df_outliers.iloc[-300:].to_csv('datasets/outliers_step=120_log_inf_test=0.1.csv',index=False,)"
   ]
  },
  {
   "cell_type": "code",
   "execution_count": null,
   "metadata": {
    "collapsed": false
   },
   "outputs": [],
   "source": [
    "df_outliers"
   ]
  },
  {
   "cell_type": "code",
   "execution_count": null,
   "metadata": {
    "collapsed": false
   },
   "outputs": [],
   "source": [
    "# df=pd.read_csv('datasets/outliers_step=120_log_inf_train=0.9.csv')\n",
    "plt.plot(df['e_mu_current'])\n",
    "plt.show()\n"
   ]
  },
  {
   "cell_type": "code",
   "execution_count": null,
   "metadata": {
    "collapsed": false
   },
   "outputs": [],
   "source": [
    "df"
   ]
  },
  {
   "cell_type": "code",
   "execution_count": null,
   "metadata": {},
   "outputs": [],
   "source": [
    "\n",
    "# fix_seed = 2021\n",
    "# np.random.seed(fix_seed)\n",
    "# torch.manual_seed(fix_seed)\n",
    "# np.random.seed(fix_seed)"
   ]
  },
  {
   "cell_type": "code",
   "execution_count": null,
   "outputs": [],
   "source": [
    "\n",
    "args = dotdict()\n",
    "args.target = 'e_mu_current'\n",
    "args.des = 'test'\n",
    "args.dropout = 0.05\n",
    "args.num_workers = 10\n",
    "args.gpu = 0\n",
    "args.lradj = 'type1'\n",
    "args.devices = '0'\n",
    "args.use_gpu = True\n",
    "args.use_multi_gpu = False\n",
    "\n",
    "args.freq = 't'\n",
    "args.checkpoints = './checkpoints/'\n",
    "args.bucket_size = 4\n",
    "args.n_hashes = 4\n",
    "args.is_trainging = True\n",
    "args.root_path = './datasets/'\n",
    "# args.data_path ='non_outliers_step=120_log_inf_train=0.9.csv' \n",
    "args.data_path ='outliers_step=120_log_inf_train=0.9.csv' \n",
    "args.model_id='qber_96_48_120_loginf_t_outliers'\n",
    "args.model = 'Autoformer'\n",
    "args.data = 'custom'\n",
    "args.features = 'MS'\n",
    "args.seq_len = 96\n",
    "args.label_len = 48\n",
    "args.pred_len = 1\n",
    "args.e_layers = 6\n",
    "args.d_layers = 6\n",
    "args.n_heads = 8\n",
    "args.factor = 3\n",
    "args.enc_in = 6\n",
    "args.dec_in =6\n",
    "args.c_out = 6\n",
    "args.d_model = 512\n",
    "args.des = 'Exp'\n",
    "args.itr = 1\n",
    "args.d_ff = 2048\n",
    "args.moving_avg = 25\n",
    "args.factor = 1\n",
    "args.distil = False\n",
    "args.output_attention = True\n",
    "args.patience= 3\n",
    "args.learning_rate = 0.0001\n",
    "args.batch_size = 64\n",
    "args.embed = 'timeF'\n",
    "args.activation = 'gelu'\n",
    "args.use_amp = False\n",
    "args.loss = 'mse'\n",
    "args.train_epochs = 10\n",
    "\n",
    "exp = Exp_Main(args)"
   ],
   "metadata": {
    "collapsed": false
   }
  },
  {
   "cell_type": "code",
   "execution_count": null,
   "metadata": {
    "collapsed": false
   },
   "outputs": [],
   "source": [
    "\n",
    "setting = '{}_{}_{}_ft{}_sl{}_ll{}_pl{}_dm{}_nh{}_el{}_dl{}_df{}_fc{}_eb{}_dt{}_{}_{}'.format(\n",
    "    args.model_id,\n",
    "    args.model,\n",
    "    args.data,\n",
    "    args.features,\n",
    "    args.seq_len,\n",
    "    args.label_len,\n",
    "    args.pred_len,\n",
    "    args.d_model,\n",
    "    args.n_heads,\n",
    "    args.e_layers,\n",
    "    args.d_layers,\n",
    "    args.d_ff,\n",
    "    args.factor,\n",
    "    args.embed,\n",
    "    args.distil,\n",
    "    args.des, 0)\n",
    "print(setting)"
   ]
  },
  {
   "cell_type": "code",
   "execution_count": null,
   "metadata": {},
   "outputs": [],
   "source": [
    "exp.train(setting)\n",
    "# exp.test(setting)"
   ]
  },
  {
   "cell_type": "code",
   "execution_count": null,
   "metadata": {},
   "outputs": [],
   "source": [
    "exp.args.root_path = './datasets/'\n",
    "exp.args.data_path = 'data_step=60_test=0.1.csv'\n",
    "\n",
    "prediction=exp.predict(setting, True)"
   ]
  },
  {
   "cell_type": "code",
   "execution_count": null,
   "metadata": {
    "collapsed": false
   },
   "outputs": [],
   "source": [
    "torch.cuda.empty_cache()\n"
   ]
  },
  {
   "cell_type": "code",
   "execution_count": null,
   "metadata": {},
   "outputs": [],
   "source": [
    "# exp_name='qber_96_48_120_loginf_t_non_outliers_Autoformer_custom_ftMS_sl96_ll48_pl1_dm512_nh8_el6_dl6_df2048_fc1_ebtimeF_dtFalse_Exp_0'\n",
    "# exp_name='qber_96_48_120_loginf_t_outliers_Autoformer_custom_ftMS_sl96_ll48_pl1_dm512_nh8_el6_dl6_df2048_fc1_ebtimeF_dtFalse_Exp_0'\n",
    "exp_name='qber_96_48_120_loginf_s_outliers_Autoformer_custom_ftMS_sl96_ll48_pl1_dm512_nh8_el6_dl6_df2048_fc1_ebtimeF_dtFalse_Exp_0'\n",
    "exp_name='test_qber_96_48_120_loginf_s_outliers_Autoformer_custom_ftMS_sl96_ll48_pl1_dm512_nh8_el6_dl6_df2048_fc1_ebtimeF_dtFalse_Exp_0'\n",
    "\n",
    "data_pred = np.load(f'./results/{exp_name}/pred.npy')\n",
    "\n",
    "data_true = np.load(f'./results/{exp_name}/true.npy')\n"
   ]
  },
  {
   "cell_type": "code",
   "execution_count": null,
   "metadata": {
    "collapsed": false
   },
   "outputs": [],
   "source": [
    "start=0\n",
    "end=5000\n",
    "plt.figure(figsize=(20,5))\n",
    "plt.plot(data_pred[start:end,0,0])\n",
    "plt.plot(data_true[start:end,0,0])\n",
    "plt.legend(['predicted','true'])\n",
    "plt.show()"
   ]
  },
  {
   "cell_type": "code",
   "execution_count": null,
   "metadata": {
    "collapsed": false
   },
   "outputs": [],
   "source": [
    "start=8200\n",
    "end=8700\n",
    "plt.figure(figsize=(20,5))\n",
    "plt.plot(data_pred[start:end,0,0])\n",
    "plt.plot(data_true[start:end,0,0])\n",
    "plt.legend(['predicted','true'])\n",
    "plt.show()"
   ]
  }
 ],
 "metadata": {
  "interpreter": {
   "hash": "f57785bf53e86c458d31dd8512073d1ac6cae98f342ec9a1a9a8506681d63dcb"
  },
  "kernelspec": {
   "display_name": "torch",
   "language": "python",
   "name": "torch"
  },
  "language_info": {
   "codemirror_mode": {
    "name": "ipython",
    "version": 3
   },
   "file_extension": ".py",
   "mimetype": "text/x-python",
   "name": "python",
   "nbconvert_exporter": "python",
   "pygments_lexer": "ipython3",
   "version": "3.7.13"
  }
 },
 "nbformat": 4,
 "nbformat_minor": 2
}
