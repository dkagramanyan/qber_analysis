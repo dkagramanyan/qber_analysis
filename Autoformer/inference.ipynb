{
 "cells": [
  {
   "cell_type": "code",
   "execution_count": 8,
   "outputs": [],
   "source": [
    "import torch\n",
    "import numpy as np\n",
    "\n",
    "import pandas as pd\n",
    "import matplotlib.pyplot as plt\n",
    "\n",
    "import os\n",
    "os.environ[\"KMP_DUPLICATE_LIB_OK\"]=\"TRUE\"\n",
    "%matplotlib inline\n",
    "from torch.utils.data import Dataset, DataLoader\n",
    "from data_provider.data_factory import data_provider\n",
    "\n",
    "from tqdm.notebook import tqdm\n",
    "\n",
    "from sklearn.metrics import r2_score, mean_squared_error\n",
    "import datetime\n",
    "\n",
    "from autoformer_inference import Autoformer,autoformer_predict"
   ],
   "metadata": {
    "collapsed": false,
    "ExecuteTime": {
     "end_time": "2023-10-02T14:20:54.141829Z",
     "start_time": "2023-10-02T14:20:54.121007300Z"
    }
   },
   "id": "1511ea242c128daa"
  },
  {
   "cell_type": "code",
   "execution_count": null,
   "outputs": [],
   "source": [
    "setting='qber_96_48_60_loginf_t_non_outliers_Autoformer_custom_ftMS_sl96_ll48_pl1_dm512_nh8_el6_dl6_df2048_fc1_ebtimeF_dtFalse_Exp_0'\n",
    "# setting='qber_96_48_60_loginf_t_non_outliers_pred_3_Autoformer_custom_ftMS_sl96_ll48_pl3_dm512_nh8_el6_dl8_df2048_fc1_ebtimeF_dtFalse_Exp_0'\n",
    "# setting='qber_96_48_60_loginf_t_outliers_Autoformer_custom_ftMS_sl96_ll48_pl1_dm512_nh8_el6_dl6_df2048_fc1_ebtimeF_dtFalse_Exp_0'\n",
    "\n",
    "path=f'./checkpoints/{setting}/checkpoint.pth'\n",
    "\n",
    "seq_len=96\n",
    "label_len=48\n",
    "# pred_len=1\n",
    "pred_len=1\n",
    "\n",
    "model = Autoformer(\n",
    "    dropout=0.05,\n",
    "    freq='t',\n",
    "    seq_len=seq_len,\n",
    "    label_len=label_len,\n",
    "    pred_len=pred_len,\n",
    "    e_layers=6,\n",
    "    d_layers=6,\n",
    "    # d_layers=8,\n",
    "    n_heads=8,\n",
    "    factor=1,\n",
    "    enc_in=6,\n",
    "    dec_in=6,\n",
    "    c_out=6,\n",
    "    d_model=512,\n",
    "    d_ff=2048,\n",
    "    moving_avg=25,\n",
    "    output_attention=True,\n",
    "    embed='timeF',\n",
    "    activation='gelu',)\n",
    "\n",
    "model.load_state_dict(torch.load(path))\n",
    "\n",
    "device='cuda'\n",
    "model.to(device)"
   ],
   "metadata": {
    "collapsed": false
   },
   "id": "initial_id"
  },
  {
   "cell_type": "code",
   "execution_count": null,
   "outputs": [],
   "source": [
    "df = pd.read_csv('datasets/non_outliers_step=60_log_inf_test=0.1.csv')\n",
    "# df = pd.read_csv('datasets/outliers_step=60_log_inf_test=0.1.csv')"
   ],
   "metadata": {
    "collapsed": false
   },
   "id": "ba0e0ba343fd39cc"
  },
  {
   "cell_type": "code",
   "execution_count": null,
   "outputs": [],
   "source": [
    "def get_ds(index,start_ts=0,step=60):\n",
    "    index_tmp=index*step+start_ts\n",
    "    date=datetime.datetime.fromtimestamp(index_tmp).strftime('%Y-%m-%d %H:%M:%S')\n",
    "    date=pd.Timestamp(date)\n",
    "    return date\n",
    "\n",
    "def norm(value):\n",
    "    if value<0.005:\n",
    "        return 0.0108-0.0023\n",
    "    else:\n",
    "        return value\n",
    "\n",
    "df=pd.read_csv('datasets/data.csv')\n",
    "\n",
    "df['index']=range(df.__len__())\n",
    "df['date']=df['index'].map(get_ds)\n",
    "\n",
    "del df['id']\n",
    "\n",
    "df['e_mu_current']=df['e_mu_current'].map(norm)\n",
    "df['e_mu_current']=np.log(df['e_mu_current'])\n",
    "\n"
   ],
   "metadata": {
    "collapsed": false
   },
   "id": "d11a7cfa457f432f"
  },
  {
   "cell_type": "code",
   "execution_count": 7,
   "outputs": [
    {
     "data": {
      "text/plain": "       e_mu_current   e_nu_1   e_nu_2      q_mu     q_nu1     q_nu2  \\\n0         -4.645992  0.01545  0.19912  0.563805  0.171919  0.006965   \n1         -4.746734  0.01331  0.16451  0.563071  0.168300  0.007908   \n2         -4.590282  0.01432  0.18310  0.562257  0.169504  0.008020   \n3         -4.650168  0.01214  0.12969  0.567922  0.167161  0.007433   \n4         -4.718339  0.01117  0.12858  0.564888  0.170380  0.007933   \n...             ...      ...      ...       ...       ...       ...   \n18155     -4.777145  0.02085  0.25589  0.566484  0.172819  0.008164   \n18156     -4.634599  0.01592  0.23668  0.572031  0.170474  0.007907   \n18157     -4.726209  0.01590  0.24216  0.569204  0.173147  0.007366   \n18158     -4.746734  0.01384  0.24447  0.570114  0.168854  0.007378   \n18159     -4.670242  0.01630  0.17943  0.576856  0.172633  0.008653   \n\n                      date  \n0      1970-04-26 21:10:00  \n1      1970-04-26 21:11:00  \n2      1970-04-26 21:12:00  \n3      1970-04-26 21:13:00  \n4      1970-04-26 21:14:00  \n...                    ...  \n18155  1970-05-09 11:45:00  \n18156  1970-05-09 11:46:00  \n18157  1970-05-09 11:47:00  \n18158  1970-05-09 11:48:00  \n18159  1970-05-09 11:49:00  \n\n[18160 rows x 7 columns]",
      "text/html": "<div>\n<style scoped>\n    .dataframe tbody tr th:only-of-type {\n        vertical-align: middle;\n    }\n\n    .dataframe tbody tr th {\n        vertical-align: top;\n    }\n\n    .dataframe thead th {\n        text-align: right;\n    }\n</style>\n<table border=\"1\" class=\"dataframe\">\n  <thead>\n    <tr style=\"text-align: right;\">\n      <th></th>\n      <th>e_mu_current</th>\n      <th>e_nu_1</th>\n      <th>e_nu_2</th>\n      <th>q_mu</th>\n      <th>q_nu1</th>\n      <th>q_nu2</th>\n      <th>date</th>\n    </tr>\n  </thead>\n  <tbody>\n    <tr>\n      <th>0</th>\n      <td>-4.645992</td>\n      <td>0.01545</td>\n      <td>0.19912</td>\n      <td>0.563805</td>\n      <td>0.171919</td>\n      <td>0.006965</td>\n      <td>1970-04-26 21:10:00</td>\n    </tr>\n    <tr>\n      <th>1</th>\n      <td>-4.746734</td>\n      <td>0.01331</td>\n      <td>0.16451</td>\n      <td>0.563071</td>\n      <td>0.168300</td>\n      <td>0.007908</td>\n      <td>1970-04-26 21:11:00</td>\n    </tr>\n    <tr>\n      <th>2</th>\n      <td>-4.590282</td>\n      <td>0.01432</td>\n      <td>0.18310</td>\n      <td>0.562257</td>\n      <td>0.169504</td>\n      <td>0.008020</td>\n      <td>1970-04-26 21:12:00</td>\n    </tr>\n    <tr>\n      <th>3</th>\n      <td>-4.650168</td>\n      <td>0.01214</td>\n      <td>0.12969</td>\n      <td>0.567922</td>\n      <td>0.167161</td>\n      <td>0.007433</td>\n      <td>1970-04-26 21:13:00</td>\n    </tr>\n    <tr>\n      <th>4</th>\n      <td>-4.718339</td>\n      <td>0.01117</td>\n      <td>0.12858</td>\n      <td>0.564888</td>\n      <td>0.170380</td>\n      <td>0.007933</td>\n      <td>1970-04-26 21:14:00</td>\n    </tr>\n    <tr>\n      <th>...</th>\n      <td>...</td>\n      <td>...</td>\n      <td>...</td>\n      <td>...</td>\n      <td>...</td>\n      <td>...</td>\n      <td>...</td>\n    </tr>\n    <tr>\n      <th>18155</th>\n      <td>-4.777145</td>\n      <td>0.02085</td>\n      <td>0.25589</td>\n      <td>0.566484</td>\n      <td>0.172819</td>\n      <td>0.008164</td>\n      <td>1970-05-09 11:45:00</td>\n    </tr>\n    <tr>\n      <th>18156</th>\n      <td>-4.634599</td>\n      <td>0.01592</td>\n      <td>0.23668</td>\n      <td>0.572031</td>\n      <td>0.170474</td>\n      <td>0.007907</td>\n      <td>1970-05-09 11:46:00</td>\n    </tr>\n    <tr>\n      <th>18157</th>\n      <td>-4.726209</td>\n      <td>0.01590</td>\n      <td>0.24216</td>\n      <td>0.569204</td>\n      <td>0.173147</td>\n      <td>0.007366</td>\n      <td>1970-05-09 11:47:00</td>\n    </tr>\n    <tr>\n      <th>18158</th>\n      <td>-4.746734</td>\n      <td>0.01384</td>\n      <td>0.24447</td>\n      <td>0.570114</td>\n      <td>0.168854</td>\n      <td>0.007378</td>\n      <td>1970-05-09 11:48:00</td>\n    </tr>\n    <tr>\n      <th>18159</th>\n      <td>-4.670242</td>\n      <td>0.01630</td>\n      <td>0.17943</td>\n      <td>0.576856</td>\n      <td>0.172633</td>\n      <td>0.008653</td>\n      <td>1970-05-09 11:49:00</td>\n    </tr>\n  </tbody>\n</table>\n<p>18160 rows × 7 columns</p>\n</div>"
     },
     "execution_count": 7,
     "metadata": {},
     "output_type": "execute_result"
    }
   ],
   "source": [
    "df"
   ],
   "metadata": {
    "collapsed": false,
    "ExecuteTime": {
     "start_time": "2023-10-02T14:07:52.100078300Z"
    }
   },
   "id": "cccc38a326b0f4e1"
  },
  {
   "cell_type": "code",
   "execution_count": null,
   "outputs": [],
   "source": [
    "model.eval()\n",
    "\n",
    "preds = []\n",
    "trues = []\n",
    "\n",
    "with torch.no_grad():\n",
    "    for i  in tqdm(range(len(df)-seq_len)):\n",
    "\n",
    "        df_tmp=df.iloc[i:i+seq_len]\n",
    "\n",
    "        pred = autoformer_predict(model, df_tmp,pred_len=pred_len)[0]\n",
    "\n",
    "        preds.append(pred)\n",
    "\n"
   ],
   "metadata": {
    "collapsed": false
   },
   "id": "4b3072286b898944"
  }
 ],
 "metadata": {
  "kernelspec": {
   "display_name": "Python 3",
   "language": "python",
   "name": "python3"
  },
  "language_info": {
   "codemirror_mode": {
    "name": "ipython",
    "version": 2
   },
   "file_extension": ".py",
   "mimetype": "text/x-python",
   "name": "python",
   "nbconvert_exporter": "python",
   "pygments_lexer": "ipython2",
   "version": "2.7.6"
  }
 },
 "nbformat": 4,
 "nbformat_minor": 5
}
