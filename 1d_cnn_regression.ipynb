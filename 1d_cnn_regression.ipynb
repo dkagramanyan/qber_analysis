{
 "cells": [
  {
   "cell_type": "code",
   "execution_count": null,
   "id": "31af8dfc-9ef7-432e-a800-ef7354a75aaf",
   "metadata": {},
   "outputs": [],
   "source": [
    "import numpy as np\n",
    "import pandas as pd\n",
    "from matplotlib import pyplot as plt\n",
    "\n",
    "import torch\n",
    "from torch.utils.data import Dataset, DataLoader\n",
    "from torch import nn\n",
    "from torchsummary import summary\n",
    "from torcheval.metrics import BinaryPrecisionRecallCurve\n",
    "import torchmetrics\n",
    "from tqdm.notebook import tqdm\n",
    "from torchmetrics import R2Score\n",
    "from sklearn.metrics import precision_recall_curve, f1_score, classification_report\n",
    "from comet_ml import Experiment\n",
    "from sklearn import preprocessing \n",
    "\n",
    "%matplotlib inline"
   ]
  },
  {
   "cell_type": "code",
   "execution_count": null,
   "id": "ddc13d1b-cc9e-471e-99a6-cbdd920a05e9",
   "metadata": {},
   "outputs": [],
   "source": [
    "N=10\n",
    "df=pd.read_csv('datasets/data.csv')\n",
    "df=np.log(df[['e_mu_current', 'e_nu_1', 'e_nu_2', 'q_mu', 'q_nu1', 'q_nu2']])\n",
    "df=df.rolling(window=N).mean()\n",
    "df=df.iloc[N:]\n",
    "df[['e_mu_current', 'e_nu_1', 'e_nu_2', 'q_mu', 'q_nu1', 'q_nu2']]=preprocessing.MinMaxScaler((0,1)).fit_transform(df[['e_mu_current', 'e_nu_1', 'e_nu_2', 'q_mu', 'q_nu1', 'q_nu2']])\n",
    "df"
   ]
  },
  {
   "cell_type": "code",
   "execution_count": null,
   "id": "4f1126e5bd8ba76c",
   "metadata": {
    "collapsed": false
   },
   "outputs": [],
   "source": [
    "plt.plot(df['e_nu_2'])\n",
    "plt.show()"
   ]
  },
  {
   "cell_type": "code",
   "execution_count": null,
   "id": "2a5bdc6f41d58787",
   "metadata": {
    "collapsed": false
   },
   "outputs": [],
   "source": [
    "df[['e_nu_1', 'e_nu_2', 'q_mu', 'q_nu1', 'q_nu2']].values"
   ]
  },
  {
   "cell_type": "code",
   "execution_count": null,
   "id": "70287f5a340aa9e",
   "metadata": {
    "collapsed": false
   },
   "outputs": [],
   "source": [
    "df[['e_nu_1', 'e_nu_2', 'q_mu', 'q_nu1', 'q_nu2']].values.reshape((-1,1,10))[0]"
   ]
  },
  {
   "cell_type": "code",
   "execution_count": null,
   "id": "c5101e94-ff64-4ef9-ac21-6c275728e046",
   "metadata": {},
   "outputs": [],
   "source": [
    "class BoxDataset(Dataset):\n",
    "    \n",
    "    @classmethod\n",
    "    def __init__(self, df_path,N=10, windth=1):\n",
    "        df=pd.read_csv(df_path)\n",
    "        df=np.log(df)\n",
    "        df=df.rolling(window=N).mean()\n",
    "        df=df.iloc[N:]\n",
    "        df[['e_mu_current', 'e_nu_1', 'e_nu_2', 'q_mu', 'q_nu1', 'q_nu2']]=preprocessing.MinMaxScaler((0,1)).fit_transform(df[['e_mu_current', 'e_nu_1', 'e_nu_2', 'q_mu', 'q_nu1', 'q_nu2']])\n",
    "        self.data=df[['e_nu_1', 'e_nu_2', 'q_mu', 'q_nu1', 'q_nu2']].values[:-1]\n",
    "        \n",
    "        self.vectors = []\n",
    "        for i, point in enumerate(self.data[:-windth]):\n",
    "            self.vectors.append(self.data[i:windth+i,:].flatten())\n",
    "        self.vectors=np.array(self.vectors)\n",
    "        self.target=df['e_mu_current'].values[windth:]\n",
    "        \n",
    "        self.vectors = torch.FloatTensor(self.vectors)\n",
    "        self.target = torch.FloatTensor(self.target)\n",
    "    def __len__(self):\n",
    "        return len(self.vectors)\n",
    "\n",
    "    def __getitem__(self, idx):\n",
    "        return {'vectors':self.vectors[idx], 'target':self.target[idx]}"
   ]
  },
  {
   "cell_type": "code",
   "execution_count": null,
   "id": "64aab4f6-03f3-4e5f-b9ab-8a480e4dcc36",
   "metadata": {},
   "outputs": [],
   "source": [
    "width=10\n",
    "dataset=BoxDataset(df_path='datasets/data.csv',windth=width)\n",
    "\n",
    "val_sptit = 0.2\n",
    "batch_size = 512\n",
    "\n",
    "train_len = len(dataset) - int(len(dataset) * val_sptit)\n",
    "test_len = int(len(dataset) * val_sptit)\n",
    "\n",
    "train_set, val_set = torch.utils.data.random_split(dataset, [train_len, test_len])\n",
    "\n",
    "train_loader = DataLoader(train_set, batch_size=batch_size, shuffle=True,\n",
    "                          drop_last=True)\n",
    "test_loader = DataLoader(val_set, batch_size=batch_size, shuffle=False,\n",
    "                         drop_last=True)"
   ]
  },
  {
   "cell_type": "code",
   "execution_count": null,
   "id": "398446d6-8cbf-4233-b9f6-c6809abc806c",
   "metadata": {},
   "outputs": [],
   "source": [
    "class Net(nn.Module):\n",
    "    def __init__(self,in_channels=1):\n",
    "        super(Net, self).__init__()\n",
    "        \n",
    "        self.relu = nn.LeakyReLU()\n",
    "\n",
    "        self.conv1 = nn.Conv1d(in_channels=in_channels, out_channels=16,kernel_size=3)\n",
    "        self.batch_norm1 = nn.BatchNorm1d(16)\n",
    "        self.maxpool1 = nn.MaxPool1d(kernel_size=2, stride=2)\n",
    "\n",
    "        self.conv2 = nn.Conv1d(in_channels=16, out_channels=32,kernel_size=3)\n",
    "        self.batch_norm2 = nn.BatchNorm1d(32)\n",
    "        self.maxpool2 = nn.MaxPool1d(kernel_size=2, stride=2)\n",
    "\n",
    "        self.conv3 = nn.Conv1d(in_channels=32, out_channels=64,kernel_size=3)\n",
    "        self.batch_norm3 = nn.BatchNorm1d(64)\n",
    "        self.maxpool3 = nn.MaxPool1d(kernel_size=2, stride=2)\n",
    "        \n",
    "        self.conv4 = nn.Conv1d(in_channels=64, out_channels=128,kernel_size=3)\n",
    "        self.batch_norm4 = nn.BatchNorm1d(128)\n",
    "        self.maxpool4 = nn.MaxPool1d(kernel_size=2, stride=2)\n",
    "\n",
    "        self.fc1_1 = nn.Linear(in_features=1472, out_features=256)\n",
    "        self.anomaly = nn.Linear(in_features=256, out_features=1)\n",
    "\n",
    "\n",
    "        for tensor in [self.conv1, self.conv2, self.conv3, self.conv4, self.fc1_1, self.anomaly]:\n",
    "            torch.nn.init.kaiming_uniform_(tensor.weight)\n",
    "\n",
    "    def forward(self, x):\n",
    "\n",
    "        x = self.conv1(x)\n",
    "        x = self.relu(x)\n",
    "        x = self.batch_norm1(x)\n",
    "\n",
    "        x = self.conv2(x)\n",
    "        x = self.relu(x)\n",
    "        x = self.batch_norm2(x)\n",
    "\n",
    "        x = torch.flatten(x, 1)\n",
    "        output1_1 = self.fc1_1(x)\n",
    "        anomaly = self.anomaly(output1_1)\n",
    "        anomaly=nn.Sigmoid()(anomaly)\n",
    "\n",
    "        return anomaly"
   ]
  },
  {
   "cell_type": "code",
   "execution_count": null,
   "id": "dd71bec5-2767-491b-8341-a58633cc6edf",
   "metadata": {},
   "outputs": [],
   "source": [
    "model = Net()\n",
    "\n",
    "res = model.cuda()\n",
    "summary(model, (1,int(5*width)))"
   ]
  },
  {
   "cell_type": "code",
   "execution_count": null,
   "id": "c458d0a3-d217-42df-b101-1b621d029a69",
   "metadata": {
    "collapsed": false
   },
   "outputs": [],
   "source": [
    "# log=False\n",
    "log=True\n",
    "if log==True:\n",
    "    experiment = Experiment(\n",
    "        api_key=\"5skWtD5KzMcU6rVhVNOLfQZ6E\",\n",
    "        project_name=\"qber-nn\",\n",
    "        workspace=\"dkagramanyan\",\n",
    "    )\n",
    "\n",
    "device = 'cuda'\n",
    "# device = 'cpu'\n",
    "\n",
    "model.train()\n",
    "model.to(device)\n",
    "\n",
    "learning_rate = 0.00001\n",
    "# learning_rate = 0.1 * (batch_size / 256)\n",
    "\n",
    "mse_loss=nn.MSELoss()\n",
    "\n",
    "acc_metric=torchmetrics.classification.MulticlassAccuracy(num_classes=5)\n",
    "optimizer = torch.optim.Adam(model.parameters(), lr=learning_rate)\n",
    "\n",
    "n_total_steps = len(train_loader)\n",
    "\n",
    "epochs_cnt = 10000\n",
    "tbar = tqdm(range(epochs_cnt), leave=True, desc='?')\n",
    "\n",
    "\n",
    "for epoch in tbar:\n",
    "    for i, frames_series in enumerate(train_loader):\n",
    "        vectors = frames_series['vectors'].to(device).reshape((-1,1,int(5*width)))\n",
    "        target = frames_series['target'].to(device)\n",
    "\n",
    "        target_output = model(vectors)\n",
    "\n",
    "        # MSe change point classification\n",
    "        loss = mse_loss(torch.squeeze(target_output), target).to(device)\n",
    "\n",
    "        optimizer.zero_grad()\n",
    "        loss.backward()\n",
    "        optimizer.step()\n",
    "        \n",
    "    if epoch % 5 == 0:\n",
    "        with torch.no_grad():\n",
    "            r2score = R2Score().to(device)\n",
    "            l1=nn.L1Loss()\n",
    "            \n",
    "            loss_list=[]\n",
    "            r2score_list=[]\n",
    "            l1_loss_list=[]\n",
    "\n",
    "            for j, test_frames_series in enumerate(test_loader):\n",
    "                vectors = test_frames_series['vectors'].to(device).reshape((-1,1,int(5*width)))\n",
    "                target = test_frames_series['target'].to(device)\n",
    "        \n",
    "                target_output = model(vectors)\n",
    "        \n",
    "                # BCE change point classification\n",
    "                loss = mse_loss(torch.squeeze(target_output), target).to(device)\n",
    "                loss_list.append(loss)\n",
    "                \n",
    "                # R2 metrics\n",
    "                r2score_metrics=r2score(torch.squeeze(target_output), target)\n",
    "                r2score_list.append(r2score_metrics)\n",
    "                \n",
    "                # L1 metrics\n",
    "                l1_loss=l1(torch.squeeze(target_output), target)\n",
    "                l1_loss_list.append(l1_loss)\n",
    "\n",
    "            loss_t=torch.mean(torch.FloatTensor(loss_list))\n",
    "            r2score_t=torch.mean(torch.FloatTensor(r2score_list))\n",
    "            l1_t=torch.mean(torch.FloatTensor(l1_loss_list))\n",
    "            \n",
    "            msg = f'\\nTest MSE Loss: {loss_t:.4f}\\tR2 metrics: {r2score_t:.4f}\\tL1 loss: {l1_t:.6f}'\n",
    "\n",
    "            print(msg)\n",
    "            if log==True:\n",
    "                experiment.log_metric('Train MSE loss', loss.item())\n",
    "                experiment.log_metric('Test MSE loss', loss_t)\n",
    "                experiment.log_metric('Test R2  metrics', r2score_t)\n",
    "                experiment.log_metric('Test L1 loss', l1_t)\n",
    "\n"
   ]
  },
  {
   "cell_type": "code",
   "execution_count": null,
   "id": "eece107d-6f7f-4152-bdc7-6af4d73d0bef",
   "metadata": {},
   "outputs": [],
   "source": [
    "experiment.end()"
   ]
  },
  {
   "cell_type": "code",
   "execution_count": null,
   "id": "ffad536662bb2e37",
   "metadata": {
    "collapsed": false
   },
   "outputs": [],
   "source": [
    "torch.save(model,'width3.pt')"
   ]
  },
  {
   "cell_type": "code",
   "execution_count": null,
   "id": "654207026ffe504b",
   "metadata": {
    "collapsed": false
   },
   "outputs": [],
   "source": [
    "predicted=[]\n",
    "true=[]\n",
    "model.cpu()\n",
    "\n",
    "with torch.no_grad():\n",
    "    for data in tqdm(dataset):\n",
    "        true.append(data['target'])\n",
    "        \n",
    "        pred=model(data['vectors'].reshape((1,1,15)))\n",
    "        predicted.append(pred[0][0])\n",
    "        "
   ]
  },
  {
   "cell_type": "code",
   "execution_count": null,
   "id": "f6a8d20c4c94a695",
   "metadata": {
    "collapsed": false
   },
   "outputs": [],
   "source": [
    "start=32000\n",
    "end=34000\n",
    "\n",
    "plt.figure(figsize=(15,5))\n",
    "plt.plot(true[start:end])\n",
    "plt.plot(predicted[start:end])\n",
    "plt.legend(['True', 'Predicted'])\n",
    "plt.show()"
   ]
  }
 ],
 "metadata": {
  "kernelspec": {
   "display_name": "torch",
   "language": "python",
   "name": "torch"
  },
  "language_info": {
   "codemirror_mode": {
    "name": "ipython",
    "version": 3
   },
   "file_extension": ".py",
   "mimetype": "text/x-python",
   "name": "python",
   "nbconvert_exporter": "python",
   "pygments_lexer": "ipython3",
   "version": "3.10.12"
  }
 },
 "nbformat": 4,
 "nbformat_minor": 5
}
