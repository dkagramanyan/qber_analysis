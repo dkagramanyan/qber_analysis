{
 "cells": [
  {
   "cell_type": "code",
   "execution_count": 2,
   "id": "31af8dfc-9ef7-432e-a800-ef7354a75aaf",
   "metadata": {
    "ExecuteTime": {
     "end_time": "2023-08-09T12:44:40.203169Z",
     "start_time": "2023-08-09T12:44:39.843292Z"
    }
   },
   "outputs": [],
   "source": [
    "import numpy as np\n",
    "import pandas as pd\n",
    "from matplotlib import pyplot as plt\n",
    "\n",
    "import torch\n",
    "from torch.utils.data import Dataset, DataLoader\n",
    "from torch import nn\n",
    "from torchsummary import summary\n",
    "from torcheval.metrics import BinaryPrecisionRecallCurve\n",
    "import torchmetrics\n",
    "from tqdm.notebook import tqdm\n",
    "from torchmetrics import R2Score\n",
    "from sklearn.metrics import precision_recall_curve, f1_score, classification_report\n",
    "from comet_ml import Experiment\n",
    "from sklearn import preprocessing \n",
    "\n",
    "%matplotlib inline"
   ]
  },
  {
   "cell_type": "code",
   "execution_count": 3,
   "id": "ddc13d1b-cc9e-471e-99a6-cbdd920a05e9",
   "metadata": {
    "ExecuteTime": {
     "end_time": "2023-08-09T12:40:06.764962Z",
     "start_time": "2023-08-09T12:40:06.468221Z"
    }
   },
   "outputs": [
    {
     "data": {
      "text/html": [
       "<div>\n",
       "<style scoped>\n",
       "    .dataframe tbody tr th:only-of-type {\n",
       "        vertical-align: middle;\n",
       "    }\n",
       "\n",
       "    .dataframe tbody tr th {\n",
       "        vertical-align: top;\n",
       "    }\n",
       "\n",
       "    .dataframe thead th {\n",
       "        text-align: right;\n",
       "    }\n",
       "</style>\n",
       "<table border=\"1\" class=\"dataframe\">\n",
       "  <thead>\n",
       "    <tr style=\"text-align: right;\">\n",
       "      <th></th>\n",
       "      <th>e_mu_current</th>\n",
       "      <th>e_nu_1</th>\n",
       "      <th>e_nu_2</th>\n",
       "      <th>q_mu</th>\n",
       "      <th>q_nu1</th>\n",
       "      <th>q_nu2</th>\n",
       "    </tr>\n",
       "  </thead>\n",
       "  <tbody>\n",
       "    <tr>\n",
       "      <th>10</th>\n",
       "      <td>0.204035</td>\n",
       "      <td>0.199261</td>\n",
       "      <td>0.767866</td>\n",
       "      <td>0.874595</td>\n",
       "      <td>0.318002</td>\n",
       "      <td>0.037391</td>\n",
       "    </tr>\n",
       "    <tr>\n",
       "      <th>11</th>\n",
       "      <td>0.210023</td>\n",
       "      <td>0.209500</td>\n",
       "      <td>0.756762</td>\n",
       "      <td>0.874379</td>\n",
       "      <td>0.318208</td>\n",
       "      <td>0.041934</td>\n",
       "    </tr>\n",
       "    <tr>\n",
       "      <th>12</th>\n",
       "      <td>0.214285</td>\n",
       "      <td>0.225922</td>\n",
       "      <td>0.747887</td>\n",
       "      <td>0.874078</td>\n",
       "      <td>0.317966</td>\n",
       "      <td>0.042026</td>\n",
       "    </tr>\n",
       "    <tr>\n",
       "      <th>13</th>\n",
       "      <td>0.221820</td>\n",
       "      <td>0.229116</td>\n",
       "      <td>0.741759</td>\n",
       "      <td>0.872217</td>\n",
       "      <td>0.319699</td>\n",
       "      <td>0.042904</td>\n",
       "    </tr>\n",
       "    <tr>\n",
       "      <th>14</th>\n",
       "      <td>0.219946</td>\n",
       "      <td>0.215104</td>\n",
       "      <td>0.748768</td>\n",
       "      <td>0.871199</td>\n",
       "      <td>0.318909</td>\n",
       "      <td>0.044967</td>\n",
       "    </tr>\n",
       "    <tr>\n",
       "      <th>...</th>\n",
       "      <td>...</td>\n",
       "      <td>...</td>\n",
       "      <td>...</td>\n",
       "      <td>...</td>\n",
       "      <td>...</td>\n",
       "      <td>...</td>\n",
       "    </tr>\n",
       "    <tr>\n",
       "      <th>184845</th>\n",
       "      <td>0.144382</td>\n",
       "      <td>0.171057</td>\n",
       "      <td>0.799052</td>\n",
       "      <td>0.880731</td>\n",
       "      <td>0.334911</td>\n",
       "      <td>0.073597</td>\n",
       "    </tr>\n",
       "    <tr>\n",
       "      <th>184846</th>\n",
       "      <td>0.141849</td>\n",
       "      <td>0.177929</td>\n",
       "      <td>0.802874</td>\n",
       "      <td>0.880780</td>\n",
       "      <td>0.335035</td>\n",
       "      <td>0.071781</td>\n",
       "    </tr>\n",
       "    <tr>\n",
       "      <th>184847</th>\n",
       "      <td>0.138021</td>\n",
       "      <td>0.185297</td>\n",
       "      <td>0.815893</td>\n",
       "      <td>0.881368</td>\n",
       "      <td>0.336529</td>\n",
       "      <td>0.069684</td>\n",
       "    </tr>\n",
       "    <tr>\n",
       "      <th>184848</th>\n",
       "      <td>0.132465</td>\n",
       "      <td>0.186639</td>\n",
       "      <td>0.825226</td>\n",
       "      <td>0.880472</td>\n",
       "      <td>0.334482</td>\n",
       "      <td>0.065804</td>\n",
       "    </tr>\n",
       "    <tr>\n",
       "      <th>184849</th>\n",
       "      <td>0.130872</td>\n",
       "      <td>0.186745</td>\n",
       "      <td>0.829197</td>\n",
       "      <td>0.881227</td>\n",
       "      <td>0.334172</td>\n",
       "      <td>0.069839</td>\n",
       "    </tr>\n",
       "  </tbody>\n",
       "</table>\n",
       "<p>184840 rows × 6 columns</p>\n",
       "</div>"
      ],
      "text/plain": [
       "        e_mu_current    e_nu_1    e_nu_2      q_mu     q_nu1     q_nu2\n",
       "10          0.204035  0.199261  0.767866  0.874595  0.318002  0.037391\n",
       "11          0.210023  0.209500  0.756762  0.874379  0.318208  0.041934\n",
       "12          0.214285  0.225922  0.747887  0.874078  0.317966  0.042026\n",
       "13          0.221820  0.229116  0.741759  0.872217  0.319699  0.042904\n",
       "14          0.219946  0.215104  0.748768  0.871199  0.318909  0.044967\n",
       "...              ...       ...       ...       ...       ...       ...\n",
       "184845      0.144382  0.171057  0.799052  0.880731  0.334911  0.073597\n",
       "184846      0.141849  0.177929  0.802874  0.880780  0.335035  0.071781\n",
       "184847      0.138021  0.185297  0.815893  0.881368  0.336529  0.069684\n",
       "184848      0.132465  0.186639  0.825226  0.880472  0.334482  0.065804\n",
       "184849      0.130872  0.186745  0.829197  0.881227  0.334172  0.069839\n",
       "\n",
       "[184840 rows x 6 columns]"
      ]
     },
     "execution_count": 3,
     "metadata": {},
     "output_type": "execute_result"
    }
   ],
   "source": [
    "N=10\n",
    "df=pd.read_csv('datasets/data.csv')\n",
    "df=np.log(df[['e_mu_current', 'e_nu_1', 'e_nu_2', 'q_mu', 'q_nu1', 'q_nu2']])\n",
    "df=df.rolling(window=N).mean()\n",
    "df=df.iloc[N:]\n",
    "df[['e_mu_current', 'e_nu_1', 'e_nu_2', 'q_mu', 'q_nu1', 'q_nu2']]=preprocessing.MinMaxScaler((0,1)).fit_transform(df[['e_mu_current', 'e_nu_1', 'e_nu_2', 'q_mu', 'q_nu1', 'q_nu2']])\n",
    "df"
   ]
  },
  {
   "cell_type": "code",
   "execution_count": 4,
   "id": "4f1126e5bd8ba76c",
   "metadata": {
    "ExecuteTime": {
     "end_time": "2023-08-09T12:40:09.189286Z",
     "start_time": "2023-08-09T12:40:08.924738Z"
    },
    "collapsed": false
   },
   "outputs": [
    {
     "data": {
      "image/png": "[encoded data removed]",
      "text/plain": [
       "<Figure size 640x480 with 1 Axes>"
      ]
     },
     "metadata": {},
     "output_type": "display_data"
    }
   ],
   "source": [
    "plt.plot(df['e_nu_2'])\n",
    "plt.show()"
   ]
  },
  {
   "cell_type": "code",
   "execution_count": 5,
   "id": "2a5bdc6f41d58787",
   "metadata": {
    "ExecuteTime": {
     "end_time": "2023-08-09T12:40:10.980108Z",
     "start_time": "2023-08-09T12:40:10.937352Z"
    },
    "collapsed": false
   },
   "outputs": [
    {
     "data": {
      "text/plain": [
       "array([[0.19926095, 0.76786569, 0.8745948 , 0.3180017 , 0.03739127],\n",
       "       [0.20949988, 0.75676213, 0.87437873, 0.31820824, 0.04193404],\n",
       "       [0.22592228, 0.74788672, 0.87407751, 0.31796569, 0.04202562],\n",
       "       ...,\n",
       "       [0.18529716, 0.81589309, 0.8813677 , 0.33652875, 0.06968442],\n",
       "       [0.18663861, 0.82522601, 0.88047223, 0.33448179, 0.06580381],\n",
       "       [0.1867448 , 0.82919734, 0.88122729, 0.33417247, 0.0698388 ]])"
      ]
     },
     "execution_count": 5,
     "metadata": {},
     "output_type": "execute_result"
    }
   ],
   "source": [
    "df[['e_nu_1', 'e_nu_2', 'q_mu', 'q_nu1', 'q_nu2']].values"
   ]
  },
  {
   "cell_type": "code",
   "execution_count": 6,
   "id": "70287f5a340aa9e",
   "metadata": {
    "ExecuteTime": {
     "end_time": "2023-08-09T12:40:12.678322Z",
     "start_time": "2023-08-09T12:40:12.634477Z"
    },
    "collapsed": false
   },
   "outputs": [
    {
     "data": {
      "text/plain": [
       "array([[0.19926095, 0.76786569, 0.8745948 , 0.3180017 , 0.03739127,\n",
       "        0.20949988, 0.75676213, 0.87437873, 0.31820824, 0.04193404]])"
      ]
     },
     "execution_count": 6,
     "metadata": {},
     "output_type": "execute_result"
    }
   ],
   "source": [
    "df[['e_nu_1', 'e_nu_2', 'q_mu', 'q_nu1', 'q_nu2']].values.reshape((-1,1,10))[0]"
   ]
  },
  {
   "cell_type": "code",
   "execution_count": 3,
   "id": "c5101e94-ff64-4ef9-ac21-6c275728e046",
   "metadata": {
    "ExecuteTime": {
     "end_time": "2023-08-09T12:44:42.369971Z",
     "start_time": "2023-08-09T12:44:42.331166Z"
    }
   },
   "outputs": [],
   "source": [
    "class BoxDataset(Dataset):\n",
    "    \n",
    "    @classmethod\n",
    "    def __init__(self, df_path,N=10, windth=1):\n",
    "        df=pd.read_csv(df_path)\n",
    "        df=np.log(df)\n",
    "        df=df.rolling(window=N).mean()\n",
    "        df=df.iloc[N:]\n",
    "        df[['e_mu_current', 'e_nu_1', 'e_nu_2', 'q_mu', 'q_nu1', 'q_nu2']]=preprocessing.MinMaxScaler((0,1)).fit_transform(df[['e_mu_current', 'e_nu_1', 'e_nu_2', 'q_mu', 'q_nu1', 'q_nu2']])\n",
    "        self.data=df[['e_nu_1', 'e_nu_2', 'q_mu', 'q_nu1', 'q_nu2']].values[:-1]\n",
    "        \n",
    "        self.vectors = []\n",
    "        for i, point in enumerate(self.data[:-windth]):\n",
    "            self.vectors.append(self.data[i:windth+i,:].flatten())\n",
    "        self.vectors=np.array(self.vectors)\n",
    "        self.target=df['e_mu_current'].values[windth:]\n",
    "        \n",
    "        self.vectors = torch.FloatTensor(self.vectors)\n",
    "        self.target = torch.FloatTensor(self.target)\n",
    "    def __len__(self):\n",
    "        return len(self.vectors)\n",
    "\n",
    "    def __getitem__(self, idx):\n",
    "        return {'vectors':self.vectors[idx], 'target':self.target[idx]}"
   ]
  },
  {
   "cell_type": "code",
   "execution_count": 7,
   "id": "bdb968748a4fa30b",
   "metadata": {
    "ExecuteTime": {
     "end_time": "2023-08-09T12:44:58.413750Z",
     "start_time": "2023-08-09T12:44:58.350601Z"
    },
    "collapsed": false
   },
   "outputs": [
    {
     "data": {
      "text/plain": [
       "36967"
      ]
     },
     "execution_count": 7,
     "metadata": {},
     "output_type": "execute_result"
    }
   ],
   "source": [
    "test_len"
   ]
  },
  {
   "cell_type": "code",
   "execution_count": 8,
   "id": "64aab4f6-03f3-4e5f-b9ab-8a480e4dcc36",
   "metadata": {
    "ExecuteTime": {
     "end_time": "2023-08-09T12:45:02.133289Z",
     "start_time": "2023-08-09T12:45:01.623634Z"
    }
   },
   "outputs": [
    {
     "name": "stderr",
     "output_type": "stream",
     "text": [
      "C:\\anaconda3\\envs\\torch\\lib\\site-packages\\pandas\\core\\internals\\blocks.py:329: RuntimeWarning: invalid value encountered in log\n",
      "  result = func(self.values, **kwargs)\n"
     ]
    }
   ],
   "source": [
    "width=2\n",
    "dataset=BoxDataset(df_path='datasets/data.csv',windth=width)\n",
    "\n",
    "val_sptit = 0.2\n",
    "batch_size = 1024\n",
    "\n",
    "train_len = len(dataset) - int(len(dataset) * val_sptit)\n",
    "test_len = int(len(dataset) * val_sptit)\n",
    "\n",
    "train_set, val_set = torch.utils.data.random_split(dataset, [train_len, test_len])\n",
    "\n",
    "train_loader = DataLoader(train_set, batch_size=batch_size, shuffle=True,\n",
    "                          drop_last=True)\n",
    "test_loader = DataLoader(val_set, batch_size=batch_size, shuffle=False,\n",
    "                         drop_last=True)"
   ]
  },
  {
   "cell_type": "code",
   "execution_count": 9,
   "id": "398446d6-8cbf-4233-b9f6-c6809abc806c",
   "metadata": {
    "ExecuteTime": {
     "end_time": "2023-08-09T12:45:02.931205Z",
     "start_time": "2023-08-09T12:45:02.893429Z"
    }
   },
   "outputs": [],
   "source": [
    "class Net(nn.Module):\n",
    "    def __init__(self,in_channels=1):\n",
    "        super(Net, self).__init__()\n",
    "        \n",
    "        self.relu = nn.LeakyReLU()\n",
    "\n",
    "        self.conv1 = nn.Conv1d(in_channels=in_channels, out_channels=16,kernel_size=3)\n",
    "        self.batch_norm1 = nn.BatchNorm1d(16)\n",
    "        self.maxpool1 = nn.MaxPool1d(kernel_size=2, stride=2)\n",
    "\n",
    "        self.conv2 = nn.Conv1d(in_channels=16, out_channels=32,kernel_size=3)\n",
    "        self.batch_norm2 = nn.BatchNorm1d(32)\n",
    "        self.maxpool2 = nn.MaxPool1d(kernel_size=2, stride=2)\n",
    "\n",
    "        self.conv3 = nn.Conv1d(in_channels=32, out_channels=64,kernel_size=3)\n",
    "        self.batch_norm3 = nn.BatchNorm1d(64)\n",
    "        self.maxpool3 = nn.MaxPool1d(kernel_size=2, stride=2)\n",
    "        \n",
    "        self.conv4 = nn.Conv1d(in_channels=64, out_channels=128,kernel_size=3)\n",
    "        self.batch_norm4 = nn.BatchNorm1d(128)\n",
    "        self.maxpool4 = nn.MaxPool1d(kernel_size=2, stride=2)\n",
    "\n",
    "        self.fc1_1 = nn.Linear(in_features=192, out_features=256)\n",
    "        self.anomaly = nn.Linear(in_features=256, out_features=1)\n",
    "\n",
    "\n",
    "        for tensor in [self.conv1, self.conv2, self.conv3, self.conv4, self.fc1_1, self.anomaly]:\n",
    "            torch.nn.init.kaiming_uniform_(tensor.weight)\n",
    "\n",
    "    def forward(self, x):\n",
    "\n",
    "        x = self.conv1(x)\n",
    "        x = self.relu(x)\n",
    "        x = self.batch_norm1(x)\n",
    "\n",
    "        x = self.conv2(x)\n",
    "        x = self.relu(x)\n",
    "        x = self.batch_norm2(x)\n",
    "\n",
    "        x = torch.flatten(x, 1)\n",
    "        output1_1 = self.fc1_1(x)\n",
    "        anomaly = self.anomaly(output1_1)\n",
    "        anomaly=nn.Sigmoid()(anomaly)\n",
    "\n",
    "        return anomaly"
   ]
  },
  {
   "cell_type": "code",
   "execution_count": 10,
   "id": "dd71bec5-2767-491b-8341-a58633cc6edf",
   "metadata": {
    "ExecuteTime": {
     "end_time": "2023-08-09T12:45:07.485170Z",
     "start_time": "2023-08-09T12:45:04.873934Z"
    }
   },
   "outputs": [
    {
     "name": "stdout",
     "output_type": "stream",
     "text": [
      "----------------------------------------------------------------\n",
      "        Layer (type)               Output Shape         Param #\n",
      "================================================================\n",
      "            Conv1d-1                [-1, 16, 8]              64\n",
      "         LeakyReLU-2                [-1, 16, 8]               0\n",
      "       BatchNorm1d-3                [-1, 16, 8]              32\n",
      "            Conv1d-4                [-1, 32, 6]           1,568\n",
      "         LeakyReLU-5                [-1, 32, 6]               0\n",
      "       BatchNorm1d-6                [-1, 32, 6]              64\n",
      "            Linear-7                  [-1, 256]          49,408\n",
      "            Linear-8                    [-1, 1]             257\n",
      "================================================================\n",
      "Total params: 51,393\n",
      "Trainable params: 51,393\n",
      "Non-trainable params: 0\n",
      "----------------------------------------------------------------\n",
      "Input size (MB): 0.00\n",
      "Forward/backward pass size (MB): 0.01\n",
      "Params size (MB): 0.20\n",
      "Estimated Total Size (MB): 0.21\n",
      "----------------------------------------------------------------\n"
     ]
    }
   ],
   "source": [
    "model = Net()\n",
    "\n",
    "res = model.cuda()\n",
    "summary(model, (1,10))"
   ]
  },
  {
   "cell_type": "code",
   "execution_count": null,
   "id": "c458d0a3-d217-42df-b101-1b621d029a69",
   "metadata": {
    "collapsed": false,
    "is_executing": true
   },
   "outputs": [],
   "source": [
    "# log=False\n",
    "log=True\n",
    "if log==True:\n",
    "    experiment = Experiment(\n",
    "        api_key=\"5skWtD5KzMcU6rVhVNOLfQZ6E\",\n",
    "        project_name=\"qber-nn\",\n",
    "        workspace=\"dkagramanyan\",\n",
    "    )\n",
    "\n",
    "device = 'cuda'\n",
    "# device = 'cpu'\n",
    "\n",
    "model.train()\n",
    "model.to(device)\n",
    "\n",
    "learning_rate = 0.001\n",
    "# learning_rate = 0.1 * (batch_size / 256)\n",
    "\n",
    "mse_loss=nn.MSELoss()\n",
    "\n",
    "acc_metric=torchmetrics.classification.MulticlassAccuracy(num_classes=5)\n",
    "optimizer = torch.optim.Adam(model.parameters(), lr=learning_rate)\n",
    "\n",
    "n_total_steps = len(train_loader)\n",
    "\n",
    "epochs_cnt = 10000\n",
    "tbar = tqdm(range(epochs_cnt), leave=True, desc='?')\n",
    "\n",
    "\n",
    "for epoch in tbar:\n",
    "\n",
    "    for i, frames_series in enumerate(train_loader):\n",
    "\n",
    "        vectors = frames_series['vectors'].to(device).reshape((-1,1,10))\n",
    "        target = frames_series['target'].to(device)\n",
    "\n",
    "        target_output = model(vectors)\n",
    "\n",
    "        # MSe change point classification\n",
    "        loss = mse_loss(torch.squeeze(target_output), target).to(device)\n",
    "\n",
    "        optimizer.zero_grad()\n",
    "        loss.backward()\n",
    "        optimizer.step()\n",
    "        \n",
    "    print('train done ---')\n",
    "        \n",
    "    if epoch % 5 == 0:\n",
    "        with torch.no_grad():\n",
    "            r2score = R2Score().to(device)\n",
    "            l1=nn.L1Loss()\n",
    "            \n",
    "            loss_list=[]\n",
    "            r2score_list=[]\n",
    "            l1_loss_list=[]\n",
    "\n",
    "            for j, test_frames_series in enumerate(test_loader):\n",
    "                vectors = test_frames_series['vectors'].to(device).reshape((-1,1,10))\n",
    "                target = test_frames_series['target'].to(device)\n",
    "        \n",
    "                target_output = model(vectors)\n",
    "        \n",
    "                # BCE change point classification\n",
    "                loss = mse_loss(torch.squeeze(target_output), target).to(device)\n",
    "                loss_list.append(loss)\n",
    "                \n",
    "                # R2 metrics\n",
    "                r2score_metrics=r2score(torch.squeeze(target_output), target)\n",
    "                r2score_list.append(r2score_metrics)\n",
    "                \n",
    "                # L1 metrics\n",
    "                l1_loss=l1(torch.squeeze(target_output), target)\n",
    "                l1_loss_list.append(l1_loss_list)\n",
    "\n",
    "            \n",
    "            loss_t=torch.mean(torch.FloatTensor(loss_list))\n",
    "            r2score_t=torch.mean(torch.FloatTensor(r2score_list))\n",
    "            l1_t=np.mean(l1_loss_list)\n",
    "            \n",
    "            print('test done')\n",
    "\n",
    "            msg = f'\\nTest MSE Loss: {loss_t:.4f}\\tR2 metrics: {r2score_t:.4f}\\tL1 loss: {l1_t:.6f}'\n",
    "\n",
    "            print(msg)\n",
    "            if log==True:\n",
    "                experiment.log_metric('Train MSE loss', loss.item())\n",
    "                experiment.log_metric('Test MSE loss', loss_t)\n",
    "                experiment.log_metric('Test R2  metrics', r2score_t)\n",
    "                experiment.log_metric('Test L1 loss', l1_t)\n",
    "\n"
   ]
  },
  {
   "cell_type": "code",
   "execution_count": null,
   "id": "eece107d-6f7f-4152-bdc7-6af4d73d0bef",
   "metadata": {},
   "outputs": [],
   "source": [
    "experiment.end()"
   ]
  }
 ],
 "metadata": {
  "kernelspec": {
   "display_name": "torch",
   "language": "python",
   "name": "torch"
  },
  "language_info": {
   "codemirror_mode": {
    "name": "ipython",
    "version": 3
   },
   "file_extension": ".py",
   "mimetype": "text/x-python",
   "name": "python",
   "nbconvert_exporter": "python",
   "pygments_lexer": "ipython3",
   "version": "3.10.12"
  }
 },
 "nbformat": 4,
 "nbformat_minor": 5
}
